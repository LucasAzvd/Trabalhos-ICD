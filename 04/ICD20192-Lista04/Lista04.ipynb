{
 "cells": [
  {
   "cell_type": "markdown",
   "metadata": {},
   "source": [
    "Before you turn this problem in, make sure everything runs as expected. First, **restart the kernel** (in the menubar, select Kernel$\\rightarrow$Restart) and then **run all cells** (in the menubar, select Cell$\\rightarrow$Run All).\n",
    "\n",
    "Make sure you fill in any place that says `YOUR CODE HERE` or \"YOUR ANSWER HERE\", as well as your name and collaborators below:"
   ]
  },
  {
   "cell_type": "code",
   "execution_count": 1,
   "metadata": {},
   "outputs": [],
   "source": [
    "NAME = \"Lucas Araujo Azevedo\"\n",
    "COLLABORATORS = \"\""
   ]
  },
  {
   "cell_type": "markdown",
   "metadata": {},
   "source": [
    "---"
   ]
  },
  {
   "cell_type": "markdown",
   "metadata": {
    "deletable": false,
    "editable": false,
    "nbgrader": {
     "checksum": "348b6edf2ff52d838d6bf631ef90f682",
     "grade": false,
     "grade_id": "cell-934eac38c0a30547",
     "locked": true,
     "schema_version": 1,
     "solution": false
    }
   },
   "source": [
    "# Lista 04 - Teste de Hipótese"
   ]
  },
  {
   "cell_type": "code",
   "execution_count": 2,
   "metadata": {
    "deletable": false,
    "editable": false,
    "nbgrader": {
     "checksum": "512c3d6d3ef58b9721f4eadbe49a7daa",
     "grade": false,
     "grade_id": "cell-baf7bcb2a3a0d24b",
     "locked": true,
     "schema_version": 1,
     "solution": false
    }
   },
   "outputs": [],
   "source": [
    "#Defina a semente de geração de números aleatórios\n",
    "#Não gerem mais números aleatórios do que o necessário, ou a correção dará errado\n",
    "import numpy as np\n",
    "import matplotlib.pyplot as plt"
   ]
  },
  {
   "cell_type": "code",
   "execution_count": 3,
   "metadata": {
    "deletable": false,
    "editable": false,
    "nbgrader": {
     "checksum": "38acdf7ddabbc2f8e164395f02fb3fde",
     "grade": false,
     "grade_id": "cell-006666a08959b31f",
     "locked": true,
     "schema_version": 1,
     "solution": false
    }
   },
   "outputs": [],
   "source": [
    "#Fixa a semente geradora de numeros aleatorios para gerar os mesmos resultados a cada execucao\n",
    "np.random.seed(42)"
   ]
  },
  {
   "cell_type": "markdown",
   "metadata": {
    "deletable": false,
    "editable": false,
    "nbgrader": {
     "checksum": "e68841a25c2cac1c1bd27f4304a44087",
     "grade": false,
     "grade_id": "cell-a7d2c962c78ee1b4",
     "locked": true,
     "schema_version": 1,
     "solution": false
    }
   },
   "source": [
    "# Exercício 01:\n",
    "\n",
    "Em uma determinada universidade, foi realizada uma entrevista em que se desejava coletar respostas de alunos de todas as grandes áreas de conhecimento. Dentre os 1000 entrevistados, cada área teve a seguinte quantidade de alunos:\n",
    "\n",
    "* Exatas: 100\n",
    "* Humanas: 600\n",
    "* Biológicas: 300\n",
    "\n",
    "No entanto, a qualidade da amostra foi questionada. Argumentou-se que a proporção de alunos de Humanas entrevistados foi muito maior que a proporção de alunos da mesma área na universidade como um todo. Na universidade, há cadastro de:\n",
    "\n",
    "* 2000 alunos de Exatas\n",
    "* 8000 alunos de Humanas\n",
    "* 2500 alunos de Biológicas"
   ]
  },
  {
   "cell_type": "markdown",
   "metadata": {
    "deletable": false,
    "editable": false,
    "nbgrader": {
     "checksum": "f86c53f0ae0ec572b38e10f09da42471",
     "grade": false,
     "grade_id": "cell-33e98c3893d17bcb",
     "locked": true,
     "schema_version": 1,
     "solution": false
    }
   },
   "source": [
    "A) Retorne uma lista de True ou False de acordo com as afirmativas abaixo:\n",
    "\n",
    "    1: A respeito da hipótese nula, podemos realizar testes que nos permitam aceitá-la como verdadeira.\n",
    "    2: Podemos definir a seguinte hipótese nula: \"A amostra utilizada na entrevista não foi gerada de forma uniformemente aleatória\".\n",
    "    3: Podemos definir a seguinte hipótese nula: \"A amostra utilizada na entrevista foi gerada de forma uniformemente aleatória\".\n",
    "    \n",
    "Exemplo:\n",
    "\n",
    "```python\n",
    "def q1a():\n",
    "    return [ False, False, False ]\n",
    "```"
   ]
  },
  {
   "cell_type": "code",
   "execution_count": 4,
   "metadata": {
    "deletable": false,
    "nbgrader": {
     "checksum": "0bf38cf43548b871bdb788d6b63a1905",
     "grade": false,
     "grade_id": "cell-8df9138889cc34a2",
     "locked": false,
     "schema_version": 1,
     "solution": true
    }
   },
   "outputs": [],
   "source": [
    "def q1a():\n",
    "    # YOUR CODE HERE\n",
    "    return [False, True, False]"
   ]
  },
  {
   "cell_type": "code",
   "execution_count": null,
   "metadata": {
    "deletable": false,
    "editable": false,
    "nbgrader": {
     "checksum": "868b937b1746aae6cab8e6e51a3be16d",
     "grade": true,
     "grade_id": "cell-921d6c90865df759",
     "locked": true,
     "points": 1,
     "schema_version": 1,
     "solution": false
    }
   },
   "outputs": [],
   "source": []
  },
  {
   "cell_type": "markdown",
   "metadata": {
    "deletable": false,
    "editable": false,
    "nbgrader": {
     "checksum": "d799899758668f85dee3b1527d75fb14",
     "grade": false,
     "grade_id": "cell-5df01cb850428b7b",
     "locked": true,
     "schema_version": 1,
     "solution": false
    }
   },
   "source": [
    "B) Para comparar as distribuições, implemente a métrica de Total Variation Distance (TVD):\n",
    "\n",
    "$$ \\mathit{TVD}(p, q) = \\frac{1}{2}|p - q| = \\frac{1}{2}\\sum_{i=1}^n |p_i - q_i| $$    \n",
    "onde $p$ e $q$ são os vetores de proporções"
   ]
  },
  {
   "cell_type": "code",
   "execution_count": 5,
   "metadata": {
    "deletable": false,
    "nbgrader": {
     "checksum": "6cd2db612093cedd3bb85224efeb5b65",
     "grade": false,
     "grade_id": "cell-3001a387e9432443",
     "locked": false,
     "schema_version": 1,
     "solution": true
    }
   },
   "outputs": [],
   "source": [
    "def tvd(p, q):\n",
    "    # YOUR CODE HERE\n",
    "    result = 0\n",
    "    for i in range(len(p)):\n",
    "        result+=abs(p[i]-q[i])/2\n",
    "    return result"
   ]
  },
  {
   "cell_type": "code",
   "execution_count": 6,
   "metadata": {
    "deletable": false,
    "editable": false,
    "nbgrader": {
     "checksum": "453de5c44923ae122ce2ac50e7d64f2a",
     "grade": true,
     "grade_id": "cell-6d02be67dbb94b79",
     "locked": true,
     "points": 1,
     "schema_version": 1,
     "solution": false
    }
   },
   "outputs": [],
   "source": [
    "from numpy.testing import *\n",
    "pop = np.array([0.15, 0.18, 0.12, 0.54, 0.01])\n",
    "samp = np.array([0.26, 0.08, 0.08, 0.54, 0.04])\n",
    "assert_equal( tvd(pop,samp), 0.14 )"
   ]
  },
  {
   "cell_type": "code",
   "execution_count": null,
   "metadata": {
    "deletable": false,
    "editable": false,
    "nbgrader": {
     "checksum": "fa77a50901b0016ccf83bcd7d942e344",
     "grade": true,
     "grade_id": "cell-16f566cad8421eec",
     "locked": true,
     "points": 1,
     "schema_version": 1,
     "solution": false
    }
   },
   "outputs": [],
   "source": []
  },
  {
   "cell_type": "markdown",
   "metadata": {
    "deletable": false,
    "editable": false,
    "nbgrader": {
     "checksum": "04d380dceea51fd809b5d735f5c560a2",
     "grade": false,
     "grade_id": "cell-558392847d2af324",
     "locked": true,
     "schema_version": 1,
     "solution": false
    }
   },
   "source": [
    "C) Calcule o TVD da amostra utilizada na entrevista\n",
    "\n",
    "__Dica:__ A Total Variation Distance é uma métrica de distância entre distribuições de probabilidade, não entre quantidades absolutas."
   ]
  },
  {
   "cell_type": "code",
   "execution_count": 7,
   "metadata": {
    "deletable": false,
    "nbgrader": {
     "checksum": "728bada3da0875d262138d7e5b202978",
     "grade": false,
     "grade_id": "cell-ccb92b26dd65a82d",
     "locked": false,
     "schema_version": 1,
     "solution": true
    }
   },
   "outputs": [],
   "source": [
    "p=[0.1, 0.6, 0.2]\n",
    "q=[0.16, 0.64, 0.2]\n",
    "\n",
    "def q1c():\n",
    "    return tvd(p, q)"
   ]
  },
  {
   "cell_type": "code",
   "execution_count": null,
   "metadata": {
    "deletable": false,
    "editable": false,
    "nbgrader": {
     "checksum": "8e10895476a91280a25f3126bf83d087",
     "grade": true,
     "grade_id": "cell-28fc937dbf0d704c",
     "locked": true,
     "points": 1,
     "schema_version": 1,
     "solution": false
    }
   },
   "outputs": [],
   "source": []
  },
  {
   "cell_type": "markdown",
   "metadata": {
    "deletable": false,
    "editable": false,
    "nbgrader": {
     "checksum": "c3cf055f53e7012099363972c0f1e0ab",
     "grade": false,
     "grade_id": "cell-37912cc7694783f3",
     "locked": true,
     "schema_version": 1,
     "solution": false
    }
   },
   "source": [
    "D) Implemente a função que simule uma amostra uniformemente aleatória, retornando uma lista de proporções para cada categoria (Exatas, Humanas, Biológicas).\n",
    "\n",
    "Exemplo: \n",
    "```python\n",
    "def gera_amostra(tamanho_amostra):\n",
    "    return [0.6, 0.0, 0.4]\n",
    "```\n",
    "__Dica:__ crie uma lista para a população (indicando a área de conhecimento do estudante por 0,1 ou 2, por exemplo) e use a função ```numpy.random.shuffle``` para embaralhar os dados. Depois, pegue os primeiros elementos da lista para formar a amostra, e calcule as proporções a partir disso.\n",
    "\n",
    "Por exemplo, o vetor [0, 0, 1, 1, 1, 2] representa uma população de tamanho 6, com dois elementos na classe 0, três elementos na classe 1 e um elemento na classe 2. As proporções são 2/6, 3/6 e 1/6, respectivamente."
   ]
  },
  {
   "cell_type": "code",
   "execution_count": 8,
   "metadata": {
    "deletable": false,
    "nbgrader": {
     "checksum": "d375b4dc744692b77200dd5b1f40f573",
     "grade": false,
     "grade_id": "cell-4e7e282297db6488",
     "locked": false,
     "schema_version": 1,
     "solution": true
    }
   },
   "outputs": [
    {
     "data": {
      "text/plain": [
       "[0.17, 0.59, 0.24]"
      ]
     },
     "execution_count": 8,
     "metadata": {},
     "output_type": "execute_result"
    }
   ],
   "source": [
    "def calcula_proporcao(amostra, valor):\n",
    "    return sum(1 for x in amostra if x == valor) / len(amostra)\n",
    "\n",
    "pop = []\n",
    "amostra = []\n",
    "def gera_amostra(tamanho_amostra):\n",
    "    # YOUR CODE HERE\n",
    "    result = []\n",
    "    for i in range(0,2000):\n",
    "        pop.append(0)\n",
    "    for i in range(2000,10000):\n",
    "        pop.append(1)\n",
    "    for i in range(10000, 12500):\n",
    "        pop.append(2)\n",
    "    np.random.shuffle(pop)\n",
    "    \n",
    "    for i in range(tamanho_amostra):\n",
    "        amostra.append(pop[i])\n",
    "    \n",
    "\n",
    "    result.append(calcula_proporcao(amostra, 0))\n",
    "    result.append(calcula_proporcao(amostra, 1))\n",
    "    result.append(calcula_proporcao(amostra, 2))\n",
    "    \n",
    "    return result\n",
    "    \n",
    "gera_amostra(100)"
   ]
  },
  {
   "cell_type": "code",
   "execution_count": null,
   "metadata": {},
   "outputs": [],
   "source": []
  },
  {
   "cell_type": "code",
   "execution_count": null,
   "metadata": {
    "deletable": false,
    "editable": false,
    "nbgrader": {
     "checksum": "bea11d292c15e440df53fe28be4f89cd",
     "grade": true,
     "grade_id": "cell-50852e242dfddbb0",
     "locked": true,
     "points": 1,
     "schema_version": 1,
     "solution": false
    }
   },
   "outputs": [],
   "source": []
  },
  {
   "cell_type": "markdown",
   "metadata": {
    "deletable": false,
    "editable": false,
    "nbgrader": {
     "checksum": "6647e3c69e9b09bea0337ffd61b2ccad",
     "grade": false,
     "grade_id": "cell-36419cd682e2c9cb",
     "locked": true,
     "schema_version": 1,
     "solution": false
    }
   },
   "source": [
    "E) Gere 10000 amostras, e plote o gráfico de distribuição dos valores de TVD. Coloque no gráfico um ponto mostrando o TVD da amostra da entrevista."
   ]
  },
  {
   "cell_type": "code",
   "execution_count": 13,
   "metadata": {
    "deletable": false,
    "nbgrader": {
     "checksum": "c71571f9702ef364bb37ea1a3dc51961",
     "grade": true,
     "grade_id": "cell-435a898fe2b6c63d",
     "locked": false,
     "points": 1,
     "schema_version": 1,
     "solution": true
    }
   },
   "outputs": [
    {
     "data": {
      "image/png": "[encoded data removed]",
      "text/plain": [
       "<Figure size 432x288 with 1 Axes>"
      ]
     },
     "metadata": {
      "needs_background": "light"
     },
     "output_type": "display_data"
    }
   ],
   "source": [
    "p=[0.16, 0.64, 0.2]\n",
    "resposta = []\n",
    "\n",
    "for _ in range(0,101):\n",
    "    q = gera_amostra(100)\n",
    "\n",
    "    resposta.append(tvd(p, q))\n",
    "\n",
    "resposta.sort()\n",
    "plt.hist(resposta)\n",
    "plt.axvline(tvd(p, q))\n",
    "plt.show()"
   ]
  },
  {
   "cell_type": "markdown",
   "metadata": {
    "deletable": false,
    "editable": false,
    "nbgrader": {
     "checksum": "a9db1e40b7600ba5e0c117d380ce7a61",
     "grade": false,
     "grade_id": "cell-71a6a2788fd46d3f",
     "locked": true,
     "schema_version": 1,
     "solution": false
    }
   },
   "source": [
    "F) Escreva uma função q1f(x) que retorne a partir de qual valor de TVD não estamos mais dentro do intervalo de x% de confiança.\n",
    "\n",
    "__Dica__: Utilize o método baseado em boostrap, ou seja, calcule o TVD para um número grande de amostras da população, como foi feito no passo anterior. Em seguida, encontre o percentil dos TVDs calculados que corresponde ao nível de confiança de 90%.\n",
    "\n",
    "Retorne apenas o lado direito do intervalo de confiança para o TVD.\n"
   ]
  },
  {
   "cell_type": "code",
   "execution_count": 24,
   "metadata": {
    "deletable": false,
    "nbgrader": {
     "checksum": "02f79767221c504f5bbc29842d970262",
     "grade": false,
     "grade_id": "cell-9a5e069bc5ba5d72",
     "locked": false,
     "schema_version": 1,
     "solution": true
    }
   },
   "outputs": [],
   "source": [
    "def q1f(x):\n",
    "    # YOUR CODE HERE\n",
    "    return round(np.percentile(resposta, x)*10, 3)"
   ]
  },
  {
   "cell_type": "code",
   "execution_count": 25,
   "metadata": {
    "deletable": false,
    "editable": false,
    "nbgrader": {
     "checksum": "0cb20d610dfb5a30ccca0a70141523ea",
     "grade": true,
     "grade_id": "cell-be1808c9bbd14418",
     "locked": true,
     "points": 0,
     "schema_version": 1,
     "solution": false
    }
   },
   "outputs": [
    {
     "ename": "AssertionError",
     "evalue": "\nArrays are not almost equal to 3 decimals\n ACTUAL: 0.034\n DESIRED: 0.031",
     "output_type": "error",
     "traceback": [
      "\u001b[1;31m---------------------------------------------------------------------------\u001b[0m",
      "\u001b[1;31mAssertionError\u001b[0m                            Traceback (most recent call last)",
      "\u001b[1;32m<ipython-input-25-9364ada39699>\u001b[0m in \u001b[0;36m<module>\u001b[1;34m\u001b[0m\n\u001b[0;32m      1\u001b[0m \u001b[1;32mfrom\u001b[0m \u001b[0mnumpy\u001b[0m\u001b[1;33m.\u001b[0m\u001b[0mtesting\u001b[0m \u001b[1;32mimport\u001b[0m \u001b[1;33m*\u001b[0m\u001b[1;33m\u001b[0m\u001b[0m\n\u001b[0;32m      2\u001b[0m \u001b[0massert_almost_equal\u001b[0m\u001b[1;33m(\u001b[0m \u001b[0mq1f\u001b[0m\u001b[1;33m(\u001b[0m\u001b[1;36m95\u001b[0m\u001b[1;33m)\u001b[0m\u001b[1;33m,\u001b[0m \u001b[1;36m0.034\u001b[0m\u001b[1;33m,\u001b[0m \u001b[1;36m3\u001b[0m \u001b[1;33m)\u001b[0m\u001b[1;33m\u001b[0m\u001b[0m\n\u001b[1;32m----> 3\u001b[1;33m \u001b[0massert_almost_equal\u001b[0m\u001b[1;33m(\u001b[0m \u001b[0mq1f\u001b[0m\u001b[1;33m(\u001b[0m\u001b[1;36m90\u001b[0m\u001b[1;33m)\u001b[0m\u001b[1;33m,\u001b[0m \u001b[1;36m0.031\u001b[0m\u001b[1;33m,\u001b[0m \u001b[1;36m3\u001b[0m \u001b[1;33m)\u001b[0m\u001b[1;33m\u001b[0m\u001b[0m\n\u001b[0m\u001b[0;32m      4\u001b[0m \u001b[0massert_almost_equal\u001b[0m\u001b[1;33m(\u001b[0m \u001b[0mq1f\u001b[0m\u001b[1;33m(\u001b[0m\u001b[1;36m80\u001b[0m\u001b[1;33m)\u001b[0m\u001b[1;33m,\u001b[0m \u001b[1;36m0.026\u001b[0m\u001b[1;33m,\u001b[0m \u001b[1;36m3\u001b[0m \u001b[1;33m)\u001b[0m\u001b[1;33m\u001b[0m\u001b[0m\n",
      "\u001b[1;32mc:\\users\\lucas\\appdata\\local\\programs\\python\\python36\\lib\\site-packages\\numpy\\testing\\_private\\utils.py\u001b[0m in \u001b[0;36massert_almost_equal\u001b[1;34m(actual, desired, decimal, err_msg, verbose)\u001b[0m\n\u001b[0;32m    586\u001b[0m         \u001b[1;32mpass\u001b[0m\u001b[1;33m\u001b[0m\u001b[0m\n\u001b[0;32m    587\u001b[0m     \u001b[1;32mif\u001b[0m \u001b[0mabs\u001b[0m\u001b[1;33m(\u001b[0m\u001b[0mdesired\u001b[0m \u001b[1;33m-\u001b[0m \u001b[0mactual\u001b[0m\u001b[1;33m)\u001b[0m \u001b[1;33m>=\u001b[0m \u001b[1;36m1.5\u001b[0m \u001b[1;33m*\u001b[0m \u001b[1;36m10.0\u001b[0m\u001b[1;33m**\u001b[0m\u001b[1;33m(\u001b[0m\u001b[1;33m-\u001b[0m\u001b[0mdecimal\u001b[0m\u001b[1;33m)\u001b[0m\u001b[1;33m:\u001b[0m\u001b[1;33m\u001b[0m\u001b[0m\n\u001b[1;32m--> 588\u001b[1;33m         \u001b[1;32mraise\u001b[0m \u001b[0mAssertionError\u001b[0m\u001b[1;33m(\u001b[0m\u001b[0m_build_err_msg\u001b[0m\u001b[1;33m(\u001b[0m\u001b[1;33m)\u001b[0m\u001b[1;33m)\u001b[0m\u001b[1;33m\u001b[0m\u001b[0m\n\u001b[0m\u001b[0;32m    589\u001b[0m \u001b[1;33m\u001b[0m\u001b[0m\n\u001b[0;32m    590\u001b[0m \u001b[1;33m\u001b[0m\u001b[0m\n",
      "\u001b[1;31mAssertionError\u001b[0m: \nArrays are not almost equal to 3 decimals\n ACTUAL: 0.034\n DESIRED: 0.031"
     ]
    }
   ],
   "source": [
    "from numpy.testing import *\n",
    "assert_almost_equal( q1f(95), 0.034, 3 )\n",
    "assert_almost_equal( q1f(90), 0.031, 3 )\n",
    "assert_almost_equal( q1f(80), 0.026, 3 )"
   ]
  },
  {
   "cell_type": "code",
   "execution_count": null,
   "metadata": {
    "deletable": false,
    "editable": false,
    "nbgrader": {
     "checksum": "42eceee8136230eb62da9b0e45cdfdbe",
     "grade": true,
     "grade_id": "cell-b5ce0fa1e395ffa3",
     "locked": true,
     "points": 1,
     "schema_version": 1,
     "solution": false
    }
   },
   "outputs": [],
   "source": []
  },
  {
   "cell_type": "markdown",
   "metadata": {
    "deletable": false,
    "editable": false,
    "nbgrader": {
     "checksum": "4c7779c5df857da1956b906d626fb39c",
     "grade": false,
     "grade_id": "cell-5ec22eea459d93ea",
     "locked": true,
     "schema_version": 1,
     "solution": false
    }
   },
   "source": [
    "# Exercício 02:\n",
    "\n",
    "Usando os dados do arquivo ```enem2015.csv```, vamos realizar um teste por permutação."
   ]
  },
  {
   "cell_type": "code",
   "execution_count": 26,
   "metadata": {
    "deletable": false,
    "editable": false,
    "nbgrader": {
     "checksum": "86bae4055b4e82f8f346c4e04c07233f",
     "grade": false,
     "grade_id": "cell-4d462ae0a0cf1a80",
     "locked": true,
     "schema_version": 1,
     "solution": false
    }
   },
   "outputs": [],
   "source": [
    "import pandas as pd"
   ]
  },
  {
   "cell_type": "code",
   "execution_count": 27,
   "metadata": {
    "deletable": false,
    "editable": false,
    "nbgrader": {
     "checksum": "1fb8848c1860a8e1bda188ddaf5b493f",
     "grade": false,
     "grade_id": "cell-5897d507370c2a6f",
     "locked": true,
     "schema_version": 1,
     "solution": false
    }
   },
   "outputs": [
    {
     "data": {
      "text/html": [
       "<div>\n",
       "<style scoped>\n",
       "    .dataframe tbody tr th:only-of-type {\n",
       "        vertical-align: middle;\n",
       "    }\n",
       "\n",
       "    .dataframe tbody tr th {\n",
       "        vertical-align: top;\n",
       "    }\n",
       "\n",
       "    .dataframe thead th {\n",
       "        text-align: right;\n",
       "    }\n",
       "</style>\n",
       "<table border=\"1\" class=\"dataframe\">\n",
       "  <thead>\n",
       "    <tr style=\"text-align: right;\">\n",
       "      <th></th>\n",
       "      <th>DEPENDENCIA_ADMINISTRATIVA</th>\n",
       "      <th>NOTA_MEDIA_ESCOLA</th>\n",
       "      <th>TAXA_DE_APROVACAO</th>\n",
       "      <th>TAXA_DE_PARTICIPACAO</th>\n",
       "    </tr>\n",
       "  </thead>\n",
       "  <tbody>\n",
       "    <tr>\n",
       "      <th>0</th>\n",
       "      <td>Federal</td>\n",
       "      <td>659.258362</td>\n",
       "      <td>92.2</td>\n",
       "      <td>96.894409</td>\n",
       "    </tr>\n",
       "    <tr>\n",
       "      <th>1</th>\n",
       "      <td>Federal</td>\n",
       "      <td>637.646728</td>\n",
       "      <td>86.5</td>\n",
       "      <td>98.717949</td>\n",
       "    </tr>\n",
       "    <tr>\n",
       "      <th>2</th>\n",
       "      <td>Estadual</td>\n",
       "      <td>556.710632</td>\n",
       "      <td>82.5</td>\n",
       "      <td>74.603180</td>\n",
       "    </tr>\n",
       "    <tr>\n",
       "      <th>3</th>\n",
       "      <td>Estadual</td>\n",
       "      <td>542.865967</td>\n",
       "      <td>70.2</td>\n",
       "      <td>54.651165</td>\n",
       "    </tr>\n",
       "    <tr>\n",
       "      <th>4</th>\n",
       "      <td>Estadual</td>\n",
       "      <td>557.379150</td>\n",
       "      <td>67.0</td>\n",
       "      <td>64.864861</td>\n",
       "    </tr>\n",
       "  </tbody>\n",
       "</table>\n",
       "</div>"
      ],
      "text/plain": [
       "  DEPENDENCIA_ADMINISTRATIVA  NOTA_MEDIA_ESCOLA  TAXA_DE_APROVACAO  \\\n",
       "0                    Federal         659.258362               92.2   \n",
       "1                    Federal         637.646728               86.5   \n",
       "2                   Estadual         556.710632               82.5   \n",
       "3                   Estadual         542.865967               70.2   \n",
       "4                   Estadual         557.379150               67.0   \n",
       "\n",
       "   TAXA_DE_PARTICIPACAO  \n",
       "0             96.894409  \n",
       "1             98.717949  \n",
       "2             74.603180  \n",
       "3             54.651165  \n",
       "4             64.864861  "
      ]
     },
     "execution_count": 27,
     "metadata": {},
     "output_type": "execute_result"
    }
   ],
   "source": [
    "df = pd.read_csv('enem2015.csv')\n",
    "df.head()"
   ]
  },
  {
   "cell_type": "markdown",
   "metadata": {
    "deletable": false,
    "editable": false,
    "nbgrader": {
     "checksum": "bb8dc4466252bf67887b57319caf2154",
     "grade": false,
     "grade_id": "cell-c7b7e9cc7d2a53e2",
     "locked": true,
     "schema_version": 1,
     "solution": false
    }
   },
   "source": [
    "A) Implemente uma função que retorne a diferença entre a média das notas das escolas públicas federais e a média das notas de  escolas privadas. Exemplo:\n",
    "\n",
    "```python\n",
    "def q2a(df):\n",
    "    media_federal = 631.0\n",
    "    media_particular = 620.0\n",
    "    return 11.0\n",
    "```"
   ]
  },
  {
   "cell_type": "code",
   "execution_count": 28,
   "metadata": {
    "deletable": false,
    "nbgrader": {
     "checksum": "0428bbec5d311c899179e7ede9184255",
     "grade": false,
     "grade_id": "cell-72b78cf05ad691a9",
     "locked": false,
     "schema_version": 1,
     "solution": true
    }
   },
   "outputs": [],
   "source": [
    "def q2a(df):\n",
    "    federal_mean = df[df['DEPENDENCIA_ADMINISTRATIVA']== 'Federal']['NOTA_MEDIA_ESCOLA'].mean()\n",
    "    particular_mean = df[df['DEPENDENCIA_ADMINISTRATIVA']== 'Privada']['NOTA_MEDIA_ESCOLA'].mean()\n",
    "    return federal_mean - particular_mean"
   ]
  },
  {
   "cell_type": "code",
   "execution_count": null,
   "metadata": {
    "deletable": false,
    "editable": false,
    "nbgrader": {
     "checksum": "148e36cfb3e0f8b2f31ed01855e07de8",
     "grade": true,
     "grade_id": "cell-be0bf46c5dc1853d",
     "locked": true,
     "points": 1,
     "schema_version": 1,
     "solution": false
    }
   },
   "outputs": [],
   "source": []
  },
  {
   "cell_type": "markdown",
   "metadata": {
    "deletable": false,
    "editable": false,
    "nbgrader": {
     "checksum": "441d25d5e0dc23dede2d38211dd32933",
     "grade": false,
     "grade_id": "cell-d1406056f2a206c3",
     "locked": true,
     "schema_version": 1,
     "solution": false
    }
   },
   "source": [
    "B) Realize permutações com os rótulos (Federal / Privada), de tamanhos ```[10,100,500,1000,5000]```. Plote gráficos mostrando a distribuição das diferenças entre as médias notas, conforme se aumenta a quantidade de permutações. Ou seja, um gráfico para 10 permutações, um para 100, e assim por diante.\n",
    "\n",
    "Como exemplo, a imagem abaixo mostra o gráfico para 100 permutações."
   ]
  },
  {
   "cell_type": "code",
   "execution_count": 29,
   "metadata": {
    "deletable": false,
    "editable": false,
    "nbgrader": {
     "checksum": "56b780a35435dacd6e5e933aa65a93d6",
     "grade": false,
     "grade_id": "cell-275f85a4273228e3",
     "locked": true,
     "schema_version": 1,
     "solution": false
    }
   },
   "outputs": [
    {
     "data": {
      "image/png": "[encoded data removed]",
      "text/plain": [
       "<IPython.core.display.Image object>"
      ]
     },
     "execution_count": 29,
     "metadata": {},
     "output_type": "execute_result"
    }
   ],
   "source": [
    "from IPython.display import Image\n",
    "Image('100permutacoes.png')"
   ]
  },
  {
   "cell_type": "code",
   "execution_count": 59,
   "metadata": {
    "deletable": false,
    "nbgrader": {
     "checksum": "9d74ffee10dddb98f1cd7865beae7a83",
     "grade": true,
     "grade_id": "cell-a4244ab97beaa278",
     "locked": false,
     "points": 1,
     "schema_version": 1,
     "solution": true
    }
   },
   "outputs": [
    {
     "data": {
      "image/png": "[encoded data removed]",
      "text/plain": [
       "<Figure size 432x288 with 1 Axes>"
      ]
     },
     "metadata": {
      "needs_background": "light"
     },
     "output_type": "display_data"
    },
    {
     "data": {
      "image/png": "[encoded data removed]",
      "text/plain": [
       "<Figure size 432x288 with 1 Axes>"
      ]
     },
     "metadata": {
      "needs_background": "light"
     },
     "output_type": "display_data"
    },
    {
     "data": {
      "image/png": "[encoded data removed]",
      "text/plain": [
       "<Figure size 432x288 with 1 Axes>"
      ]
     },
     "metadata": {
      "needs_background": "light"
     },
     "output_type": "display_data"
    },
    {
     "data": {
      "image/png": "[encoded data removed]",
      "text/plain": [
       "<Figure size 432x288 with 1 Axes>"
      ]
     },
     "metadata": {
      "needs_background": "light"
     },
     "output_type": "display_data"
    },
    {
     "data": {
      "image/png": "[encoded data removed]",
      "text/plain": [
       "<Figure size 432x288 with 1 Axes>"
      ]
     },
     "metadata": {
      "needs_background": "light"
     },
     "output_type": "display_data"
    }
   ],
   "source": [
    "dif_abs = q2a(df)\n",
    "\n",
    "def diferenca(df):\n",
    "    federal = df['DEPENDENCIA_ADMINISTRATIVA'] == 'Federal'\n",
    "    np.random.shuffle(federal.values)\n",
    "    privada = df['DEPENDENCIA_ADMINISTRATIVA'] == 'Privada'\n",
    "    np.random.shuffle(privada.values)\n",
    "    \n",
    "    federal_mean = df[federal]['NOTA_MEDIA_ESCOLA'].mean()\n",
    "    particular_mean = df[privada]['NOTA_MEDIA_ESCOLA'].mean()\n",
    "    return federal_mean - particular_mean\n",
    "\n",
    "def plot_permutacao(tamanho, df):\n",
    "    valores_dif = np.zeros(tamanho)\n",
    "    for i in range(tamanho):\n",
    "        np.random.shuffle(df.values)\n",
    "        dif = diferenca(df)\n",
    "        valores_dif[i] = dif\n",
    "    plt.figure(tamanho)\n",
    "    plt.xlabel('Diferença na Permutação')\n",
    "    plt.ylabel('Pr(diff)')\n",
    "    plt.title(str(tamanho)+\" Permutações\")\n",
    "    plt.vlines(dif_abs,0,2,color='red')\n",
    "    plt.hist(valores_dif, bins=40, density=True, edgecolor='k')\n",
    "    plt.show()\n",
    "\n",
    "plot_permutacao(10,df)\n",
    "plot_permutacao(100,df)\n",
    "plot_permutacao(500,df)\n",
    "plot_permutacao(1000,df)\n",
    "plot_permutacao(5000,df) "
   ]
  },
  {
   "cell_type": "markdown",
   "metadata": {
    "deletable": false,
    "editable": false,
    "nbgrader": {
     "checksum": "bf4293acff854b09258e4b7f13a8d415",
     "grade": false,
     "grade_id": "cell-8ec9e530fa70007c",
     "locked": true,
     "schema_version": 1,
     "solution": false
    }
   },
   "source": [
    "B) Escreva abaixo o que você observou com os gráficos."
   ]
  },
  {
   "cell_type": "markdown",
   "metadata": {
    "deletable": false,
    "nbgrader": {
     "checksum": "6cc04203efcc4f4d8fe1d165a88f47f5",
     "grade": true,
     "grade_id": "cell-79def4591cae6a4d",
     "locked": false,
     "points": 1,
     "schema_version": 1,
     "solution": true
    }
   },
   "source": [
    "Conforme aumenta o numero de permutações, os valores tendem a uma normal e permanecem longe do valor absoluto, que significa que é significamente."
   ]
  }
 ],
 "metadata": {
  "kernelspec": {
   "display_name": "Python 3",
   "language": "python",
   "name": "python3"
  },
  "language_info": {
   "codemirror_mode": {
    "name": "ipython",
    "version": 3
   },
   "file_extension": ".py",
   "mimetype": "text/x-python",
   "name": "python",
   "nbconvert_exporter": "python",
   "pygments_lexer": "ipython3",
   "version": "3.6.5"
  },
  "varInspector": {
   "cols": {
    "lenName": 16,
    "lenType": 16,
    "lenVar": 40
   },
   "kernels_config": {
    "python": {
     "delete_cmd_postfix": "",
     "delete_cmd_prefix": "del ",
     "library": "var_list.py",
     "varRefreshCmd": "print(var_dic_list())"
    },
    "r": {
     "delete_cmd_postfix": ") ",
     "delete_cmd_prefix": "rm(",
     "library": "var_list.r",
     "varRefreshCmd": "cat(var_dic_list()) "
    }
   },
   "types_to_exclude": [
    "module",
    "function",
    "builtin_function_or_method",
    "instance",
    "_Feature"
   ],
   "window_display": false
  }
 },
 "nbformat": 4,
 "nbformat_minor": 2
}
