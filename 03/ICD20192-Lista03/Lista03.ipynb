{
 "cells": [
  {
   "cell_type": "markdown",
   "metadata": {
    "nbgrader": {
     "grade": false,
     "grade_id": "cellc-a00",
     "locked": true,
     "schema_version": 1,
     "solution": false
    }
   },
   "source": [
    "# Lista 03 - ICs + Bootstrap"
   ]
  },
  {
   "cell_type": "code",
   "execution_count": 1,
   "metadata": {
    "nbgrader": {
     "grade": false,
     "grade_id": "cell-20fe39048e63375d",
     "locked": true,
     "schema_version": 1,
     "solution": false
    }
   },
   "outputs": [],
   "source": [
    "# -*- coding: utf 8\n",
    "\n",
    "from matplotlib import pyplot as plt\n",
    "\n",
    "import pandas as pd\n",
    "import numpy as np\n",
    "\n",
    "plt.style.use('seaborn-colorblind')\n",
    "plt.ion()"
   ]
  },
  {
   "cell_type": "markdown",
   "metadata": {
    "nbgrader": {
     "grade": false,
     "grade_id": "cell-9d1ad29e35bed9f4",
     "locked": true,
     "schema_version": 1,
     "solution": false
    }
   },
   "source": [
    "# Exercício 01:\n",
    "Vamos utilizar a base de dados ```enem2015.csv```."
   ]
  },
  {
   "cell_type": "code",
   "execution_count": 2,
   "metadata": {
    "nbgrader": {
     "grade": false,
     "grade_id": "cell-e5327430097d8ae9",
     "locked": true,
     "schema_version": 1,
     "solution": false
    },
    "scrolled": true
   },
   "outputs": [
    {
     "data": {
      "text/html": [
       "<div>\n",
       "<style scoped>\n",
       "    .dataframe tbody tr th:only-of-type {\n",
       "        vertical-align: middle;\n",
       "    }\n",
       "\n",
       "    .dataframe tbody tr th {\n",
       "        vertical-align: top;\n",
       "    }\n",
       "\n",
       "    .dataframe thead th {\n",
       "        text-align: right;\n",
       "    }\n",
       "</style>\n",
       "<table border=\"1\" class=\"dataframe\">\n",
       "  <thead>\n",
       "    <tr style=\"text-align: right;\">\n",
       "      <th></th>\n",
       "      <th>DEPENDENCIA_ADMINISTRATIVA</th>\n",
       "      <th>NOTA_MEDIA_ESCOLA</th>\n",
       "      <th>TAXA_DE_APROVACAO</th>\n",
       "      <th>TAXA_DE_PARTICIPACAO</th>\n",
       "    </tr>\n",
       "  </thead>\n",
       "  <tbody>\n",
       "    <tr>\n",
       "      <th>0</th>\n",
       "      <td>Federal</td>\n",
       "      <td>659.258362</td>\n",
       "      <td>92.2</td>\n",
       "      <td>96.894409</td>\n",
       "    </tr>\n",
       "    <tr>\n",
       "      <th>1</th>\n",
       "      <td>Federal</td>\n",
       "      <td>637.646728</td>\n",
       "      <td>86.5</td>\n",
       "      <td>98.717949</td>\n",
       "    </tr>\n",
       "    <tr>\n",
       "      <th>2</th>\n",
       "      <td>Estadual</td>\n",
       "      <td>556.710632</td>\n",
       "      <td>82.5</td>\n",
       "      <td>74.603180</td>\n",
       "    </tr>\n",
       "    <tr>\n",
       "      <th>3</th>\n",
       "      <td>Estadual</td>\n",
       "      <td>542.865967</td>\n",
       "      <td>70.2</td>\n",
       "      <td>54.651165</td>\n",
       "    </tr>\n",
       "    <tr>\n",
       "      <th>4</th>\n",
       "      <td>Estadual</td>\n",
       "      <td>557.379150</td>\n",
       "      <td>67.0</td>\n",
       "      <td>64.864861</td>\n",
       "    </tr>\n",
       "  </tbody>\n",
       "</table>\n",
       "</div>"
      ],
      "text/plain": [
       "  DEPENDENCIA_ADMINISTRATIVA  NOTA_MEDIA_ESCOLA  TAXA_DE_APROVACAO  \\\n",
       "0                    Federal         659.258362               92.2   \n",
       "1                    Federal         637.646728               86.5   \n",
       "2                   Estadual         556.710632               82.5   \n",
       "3                   Estadual         542.865967               70.2   \n",
       "4                   Estadual         557.379150               67.0   \n",
       "\n",
       "   TAXA_DE_PARTICIPACAO  \n",
       "0             96.894409  \n",
       "1             98.717949  \n",
       "2             74.603180  \n",
       "3             54.651165  \n",
       "4             64.864861  "
      ]
     },
     "execution_count": 2,
     "metadata": {},
     "output_type": "execute_result"
    }
   ],
   "source": [
    "df = pd.read_csv('enem2015.csv')\n",
    "df.head()"
   ]
  },
  {
   "cell_type": "code",
   "execution_count": 3,
   "metadata": {
    "nbgrader": {
     "grade": false,
     "grade_id": "cell-64e79d5e266a1710",
     "locked": true,
     "schema_version": 1,
     "solution": false
    }
   },
   "outputs": [
    {
     "data": {
      "text/html": [
       "<div>\n",
       "<style scoped>\n",
       "    .dataframe tbody tr th:only-of-type {\n",
       "        vertical-align: middle;\n",
       "    }\n",
       "\n",
       "    .dataframe tbody tr th {\n",
       "        vertical-align: top;\n",
       "    }\n",
       "\n",
       "    .dataframe thead th {\n",
       "        text-align: right;\n",
       "    }\n",
       "</style>\n",
       "<table border=\"1\" class=\"dataframe\">\n",
       "  <thead>\n",
       "    <tr style=\"text-align: right;\">\n",
       "      <th></th>\n",
       "      <th>NOTA_MEDIA_ESCOLA</th>\n",
       "      <th>TAXA_DE_APROVACAO</th>\n",
       "      <th>TAXA_DE_PARTICIPACAO</th>\n",
       "    </tr>\n",
       "  </thead>\n",
       "  <tbody>\n",
       "    <tr>\n",
       "      <th>count</th>\n",
       "      <td>1685.000000</td>\n",
       "      <td>1683.000000</td>\n",
       "      <td>1685.000000</td>\n",
       "    </tr>\n",
       "    <tr>\n",
       "      <th>mean</th>\n",
       "      <td>575.391745</td>\n",
       "      <td>86.044444</td>\n",
       "      <td>75.263669</td>\n",
       "    </tr>\n",
       "    <tr>\n",
       "      <th>std</th>\n",
       "      <td>40.796223</td>\n",
       "      <td>10.334011</td>\n",
       "      <td>16.886193</td>\n",
       "    </tr>\n",
       "    <tr>\n",
       "      <th>min</th>\n",
       "      <td>487.007141</td>\n",
       "      <td>47.700000</td>\n",
       "      <td>50.000000</td>\n",
       "    </tr>\n",
       "    <tr>\n",
       "      <th>25%</th>\n",
       "      <td>544.937500</td>\n",
       "      <td>79.500000</td>\n",
       "      <td>59.615387</td>\n",
       "    </tr>\n",
       "    <tr>\n",
       "      <th>50%</th>\n",
       "      <td>561.520752</td>\n",
       "      <td>87.800000</td>\n",
       "      <td>72.916672</td>\n",
       "    </tr>\n",
       "    <tr>\n",
       "      <th>75%</th>\n",
       "      <td>607.530579</td>\n",
       "      <td>94.550000</td>\n",
       "      <td>92.857140</td>\n",
       "    </tr>\n",
       "    <tr>\n",
       "      <th>max</th>\n",
       "      <td>713.629028</td>\n",
       "      <td>100.000000</td>\n",
       "      <td>100.000000</td>\n",
       "    </tr>\n",
       "  </tbody>\n",
       "</table>\n",
       "</div>"
      ],
      "text/plain": [
       "       NOTA_MEDIA_ESCOLA  TAXA_DE_APROVACAO  TAXA_DE_PARTICIPACAO\n",
       "count        1685.000000        1683.000000           1685.000000\n",
       "mean          575.391745          86.044444             75.263669\n",
       "std            40.796223          10.334011             16.886193\n",
       "min           487.007141          47.700000             50.000000\n",
       "25%           544.937500          79.500000             59.615387\n",
       "50%           561.520752          87.800000             72.916672\n",
       "75%           607.530579          94.550000             92.857140\n",
       "max           713.629028         100.000000            100.000000"
      ]
     },
     "execution_count": 3,
     "metadata": {},
     "output_type": "execute_result"
    }
   ],
   "source": [
    "df.describe()"
   ]
  },
  {
   "cell_type": "markdown",
   "metadata": {
    "nbgrader": {
     "grade": false,
     "grade_id": "cell-77a6d45d72bdd64d",
     "locked": true,
     "schema_version": 1,
     "solution": false
    }
   },
   "source": [
    "A) Plote um histograma dos dados da coluna \"NOTA_MEDIA_ESCOLA\"."
   ]
  },
  {
   "cell_type": "code",
   "execution_count": 4,
   "metadata": {
    "nbgrader": {
     "grade": true,
     "grade_id": "cell-b9008710d05cd6db",
     "locked": false,
     "points": 1,
     "schema_version": 1,
     "solution": true
    }
   },
   "outputs": [
    {
     "data": {
      "text/plain": [
       "Text(0, 0.5, 'Fração de escolas')"
      ]
     },
     "execution_count": 4,
     "metadata": {},
     "output_type": "execute_result"
    },
    {
     "data": {
      "image/png": "[encoded data removed]",
      "text/plain": [
       "<Figure size 432x288 with 1 Axes>"
      ]
     },
     "metadata": {
      "needs_background": "light"
     },
     "output_type": "display_data"
    }
   ],
   "source": [
    "### BEGIN SOLUTION\n",
    "ne = df['NOTA_MEDIA_ESCOLA']\n",
    "\n",
    "plt.hist(ne, density=True, edgecolor='k');\n",
    "plt.xlabel('Nota média das escolas')\n",
    "plt.ylabel('Fração de escolas')\n",
    "### END SOLUTION"
   ]
  },
  {
   "cell_type": "markdown",
   "metadata": {
    "nbgrader": {
     "grade": false,
     "grade_id": "cell-5de2af25853ccf6b",
     "locked": true,
     "schema_version": 1,
     "solution": false
    }
   },
   "source": [
    "B) Para o valor médio das notas as escolas, determine com 95% o intervalo de confiança. **Não utilize a técnica de bootstrap.**\n",
    "\n",
    "Lembrando do conceito visto em aula:\n",
    "\n",
    "$$\\begin{align}\n",
    "0.95 = P(-z \\le Z \\le z)=P \\left(-1.96 \\le \\frac {\\bar X-\\mu}{\\sigma/\\sqrt{n}} \\le 1.96 \\right) = P \\left( \\bar X - 1.96 \\frac \\sigma {\\sqrt{n}} \\le \\mu \\le \\bar X + 1.96 \\frac \\sigma {\\sqrt{n}}\\right).\n",
    "\\end{align}$$\n",
    "\n",
    "Logo, a probabilidade da média da população estar entre $\\bar{X} +- 1.96 \\frac \\sigma {\\sqrt{n}}$ é de 95%."
   ]
  },
  {
   "cell_type": "markdown",
   "metadata": {
    "nbgrader": {
     "grade": false,
     "grade_id": "cell-065ca84cea4fc834",
     "locked": true,
     "schema_version": 1,
     "solution": false
    }
   },
   "source": [
    "Neste exercício você deverá retornar uma lista com os valores inferior e superior do intervalo de confiança."
   ]
  },
  {
   "cell_type": "code",
   "execution_count": 5,
   "metadata": {
    "nbgrader": {
     "grade": false,
     "grade_id": "cell-3f60daae27375779",
     "locked": false,
     "schema_version": 1,
     "solution": true
    }
   },
   "outputs": [],
   "source": [
    "def calcula_IC_notas(df):\n",
    "    ### BEGIN SOLUTION\n",
    "    ne = df['NOTA_MEDIA_ESCOLA']\n",
    "    \n",
    "    s = np.std(ne, ddof=1)\n",
    "    s_over_n = s / np.sqrt(len(ne))\n",
    "    mean = np.mean(ne)\n",
    "    \n",
    "    inferior = mean - 1.96 * s_over_n\n",
    "    superior = mean + 1.96 * s_over_n\n",
    "    ### END SOLUTION\n",
    "    return [ inferior, superior ]"
   ]
  },
  {
   "cell_type": "markdown",
   "metadata": {
    "nbgrader": {
     "grade": false,
     "grade_id": "cell-46e43e56c918e334",
     "locked": true,
     "schema_version": 1,
     "solution": false
    }
   },
   "source": [
    "Para certificar que a sua função está retornando o intervalo correto, verifique se os valores abaixo \n",
    "são os mesmos para a sua função:\n",
    "    \n",
    "[573.4438030115773, 577.3396875055739]\n",
    "\n",
    "Se eles não estiverem neste intervalo, qual pode ser o motivo ?\n",
    "\n",
    "Verifique os parâmetros da função _np.std()_"
   ]
  },
  {
   "cell_type": "code",
   "execution_count": 6,
   "metadata": {
    "nbgrader": {
     "grade": true,
     "grade_id": "cell-7ffe28105370b669",
     "locked": true,
     "points": 1,
     "schema_version": 1,
     "solution": false
    }
   },
   "outputs": [],
   "source": [
    "### BEGIN HIDDEN TESTS\n",
    "from numpy.testing import *\n",
    "assert_array_equal(calcula_IC_notas(df), [573.4438030115773, 577.3396875055739])\n",
    "### END HIDDEN TESTS"
   ]
  },
  {
   "cell_type": "markdown",
   "metadata": {
    "nbgrader": {
     "grade": false,
     "grade_id": "cell-feef6974844921de",
     "locked": true,
     "schema_version": 1,
     "solution": false
    }
   },
   "source": [
    "C) Na função abaixo, retorne o número da opção que melhor define o que indica o Intervalo de Confiança:\n",
    "\n",
    "    1: O intervalo inclui a média da população com 95% de probabilidade\n",
    "    2: 5% da amostra está a mais que 1.96 de distância da média da população\n",
    "    3: 95% dos valores da população estão dentro do intervalo\n",
    "    4: A média da amostra está com 95% de probabilidade dentro do intervalo\n",
    "    5: Nenhuma das anteriores"
   ]
  },
  {
   "cell_type": "code",
   "execution_count": 7,
   "metadata": {
    "nbgrader": {
     "grade": false,
     "grade_id": "cell-95093148b01792f2",
     "locked": false,
     "schema_version": 1,
     "solution": true
    }
   },
   "outputs": [],
   "source": [
    "def resposta():\n",
    "    # Escolha uma das opções acima\n",
    "    # return 1 ou 2 ou 3 ou 4 ou 5\n",
    "    # Escreva sua resposta abaixo:\n",
    "    ### BEGIN SOLUTION\n",
    "    return 1\n",
    "    ### END SOLUTION"
   ]
  },
  {
   "cell_type": "code",
   "execution_count": 8,
   "metadata": {
    "nbgrader": {
     "grade": true,
     "grade_id": "cell-994c03fe99dda082",
     "locked": true,
     "points": 1,
     "schema_version": 1,
     "solution": false
    }
   },
   "outputs": [],
   "source": [
    "### BEGIN HIDDEN TESTS\n",
    "from numpy.testing import *\n",
    "assert_equal(resposta(), 1)\n",
    "### END HIDDEN TESTS"
   ]
  },
  {
   "cell_type": "markdown",
   "metadata": {
    "nbgrader": {
     "grade": false,
     "grade_id": "cell1c-a00",
     "locked": true,
     "schema_version": 1,
     "solution": false
    }
   },
   "source": [
    "# Exercício 02:\n",
    "\n",
    "Agora vamos calcular intervalos de confiança utilizando **bootstrap**."
   ]
  },
  {
   "cell_type": "markdown",
   "metadata": {
    "nbgrader": {
     "grade": false,
     "grade_id": "cell-f30c5f08ab799833",
     "locked": true,
     "schema_version": 1,
     "solution": false
    }
   },
   "source": [
    "A) Utilizando o mesmo atributo do exercício anterior, execute um bootstrap com 5000 amostras.\n",
    "\n",
    "Lembre do conceito visto em aula:\n",
    "\n",
    "\"Para implementar o Bootstrap, vamos implementar uma função. A mesma faz uso da função _sample_ que gera uma amostra aleatória de _n_ elementos retirados do dataframe. Note que estamos fazendo um bootstrap da **mediana**, podemos fazer patra outras medidas centrais.\"\n",
    "\n",
    "1. Dado _n_ e _size_\n",
    "2. Gere _n_ amostras de tamanho _size_ com reposição\n",
    "3. Tira a mediana\n",
    "4. Retorne as novas amostras e veja a distribuição das mesmas"
   ]
  },
  {
   "cell_type": "code",
   "execution_count": 9,
   "metadata": {
    "nbgrader": {
     "grade": true,
     "grade_id": "cell-d0a2391bf51eef6f",
     "locked": false,
     "points": 1,
     "schema_version": 1,
     "solution": true
    }
   },
   "outputs": [],
   "source": [
    "nme = df['NOTA_MEDIA_ESCOLA']\n",
    "N = 5000\n",
    "S = 5000\n",
    "\n",
    "def bootstrap_median(nme, n, size):\n",
    "    ### BEGIN SOLUTION\n",
    "    values = np.zeros(n)\n",
    "    for i in range(n):\n",
    "        sample = nme.sample(size, replace=True)\n",
    "        values[i] = sample.median()\n",
    "    ### END SOLUTION\n",
    "    return values"
   ]
  },
  {
   "cell_type": "markdown",
   "metadata": {
    "nbgrader": {
     "grade": false,
     "grade_id": "cell-38068ba97aad6037",
     "locked": true,
     "schema_version": 1,
     "solution": false
    }
   },
   "source": [
    "B) Plote a distribuição das medianas."
   ]
  },
  {
   "cell_type": "code",
   "execution_count": 10,
   "metadata": {
    "nbgrader": {
     "grade": true,
     "grade_id": "cell-0c01d0a6bf44b560",
     "locked": false,
     "points": 1,
     "schema_version": 1,
     "solution": true
    }
   },
   "outputs": [
    {
     "data": {
      "text/plain": [
       "Text(0, 0.5, 'P(mediana)')"
      ]
     },
     "execution_count": 10,
     "metadata": {},
     "output_type": "execute_result"
    },
    {
     "data": {
      "image/png": "[encoded data removed]",
      "text/plain": [
       "<Figure size 432x288 with 1 Axes>"
      ]
     },
     "metadata": {
      "needs_background": "light"
     },
     "output_type": "display_data"
    }
   ],
   "source": [
    "bm_values = bootstrap_median(nme, N, S)\n",
    "\n",
    "### BEGIN SOLUTION\n",
    "plt.hist(bm_values, density=True, edgecolor='k');\n",
    "plt.xlabel('Mediana da amostra de tamanho 5000')\n",
    "plt.ylabel('P(mediana)')\n",
    "### END SOLUTION"
   ]
  },
  {
   "cell_type": "markdown",
   "metadata": {
    "nbgrader": {
     "grade": false,
     "grade_id": "cell-b8f9d89555c76f12",
     "locked": true,
     "schema_version": 1,
     "solution": false
    }
   },
   "source": [
    "C) Faça uma função que indique onde ficam 95% dos dados sintéticos"
   ]
  },
  {
   "cell_type": "code",
   "execution_count": 11,
   "metadata": {
    "nbgrader": {
     "grade": false,
     "grade_id": "cell-4a9f27e4dcd22c5e",
     "locked": false,
     "schema_version": 1,
     "solution": true
    }
   },
   "outputs": [],
   "source": [
    "def percentile(bm_values, init, final):\n",
    "    ### BEGIN SOLUTION\n",
    "    inferior = np.percentile(bm_values, init)\n",
    "    superior = np.percentile(bm_values, final)\n",
    "    ### END SOLUTION\n",
    "    return [inferior, superior]"
   ]
  },
  {
   "cell_type": "markdown",
   "metadata": {
    "nbgrader": {
     "grade": false,
     "grade_id": "cell-c3a44bb4b11fdb99",
     "locked": true,
     "schema_version": 1,
     "solution": false
    }
   },
   "source": [
    "Na célula abaixo chame a função que você definiu acima. Altere os parâmetros _init_ e _final_ \n",
    "para que a resposta indique os 95%. "
   ]
  },
  {
   "cell_type": "code",
   "execution_count": 12,
   "metadata": {
    "nbgrader": {
     "grade": true,
     "grade_id": "cell-5fdd4f21438c043e",
     "locked": false,
     "points": 1,
     "schema_version": 1,
     "solution": true
    }
   },
   "outputs": [
    {
     "data": {
      "text/plain": [
       "[559.6359252999999, 562.7050171]"
      ]
     },
     "execution_count": 12,
     "metadata": {},
     "output_type": "execute_result"
    }
   ],
   "source": [
    "init = 0\n",
    "final = 95\n",
    "\n",
    "percentile(bm_values, init, final)"
   ]
  },
  {
   "cell_type": "code",
   "execution_count": 25,
   "metadata": {
    "nbgrader": {
     "grade": true,
     "grade_id": "cell-46f9cce3f3cf71b1",
     "locked": true,
     "points": 1,
     "schema_version": 1,
     "solution": false
    }
   },
   "outputs": [],
   "source": [
    "### BEGIN HIDDEN TESTS\n",
    "from numpy.testing import *\n",
    "assert_equal(percentile(bm_values, init, final), [559.6359252999999, 562.7050171])\n",
    "### END HIDDEN TESTS"
   ]
  },
  {
   "cell_type": "markdown",
   "metadata": {
    "nbgrader": {
     "grade": false,
     "grade_id": "cell-22f9a44c571a7b84",
     "locked": true,
     "schema_version": 1,
     "solution": false
    }
   },
   "source": [
    "# Exercício 03:\n",
    "\n",
    "Plote, em escala log-log, a distribuição dos dados no arquivo \"lista.csv\"."
   ]
  },
  {
   "cell_type": "code",
   "execution_count": 18,
   "metadata": {
    "nbgrader": {
     "grade": false,
     "grade_id": "cell-f409b4059af75355",
     "locked": true,
     "schema_version": 1,
     "solution": false
    }
   },
   "outputs": [
    {
     "data": {
      "text/plain": [
       "0    1.602521\n",
       "1    6.313130\n",
       "2    1.704995\n",
       "3    4.370505\n",
       "4    0.983462\n",
       "Name: valores, dtype: float64"
      ]
     },
     "execution_count": 18,
     "metadata": {},
     "output_type": "execute_result"
    }
   ],
   "source": [
    "valores = pd.read_csv('lista.csv')['valores']\n",
    "valores.head()"
   ]
  },
  {
   "cell_type": "markdown",
   "metadata": {
    "nbgrader": {
     "grade": false,
     "grade_id": "cell-7b6790a3083264a6",
     "locked": true,
     "schema_version": 1,
     "solution": false
    }
   },
   "source": [
    "A) Calcule a média, mediana, variância e desvio padrão dos dados carregados acima. Retorne uma lista da seguinte forma:\n",
    "\n",
    "```python\n",
    "return [media, mediana, var, desvio]\n",
    "```"
   ]
  },
  {
   "cell_type": "code",
   "execution_count": 19,
   "metadata": {
    "nbgrader": {
     "grade": false,
     "grade_id": "cell-41b761a7be36a648",
     "locked": false,
     "schema_version": 1,
     "solution": true
    }
   },
   "outputs": [],
   "source": [
    "def calcula_dist_lista(dados):\n",
    "    ### BEGIN SOLUTION\n",
    "    media = np.mean(dados)\n",
    "    mediana = np.median(dados)\n",
    "    desvio = np.std(dados, ddof=1)\n",
    "    var = np.var(dados)\n",
    "    ### END SOLUTION    \n",
    "    return [media, mediana, var, desvio]"
   ]
  },
  {
   "cell_type": "code",
   "execution_count": 20,
   "metadata": {
    "nbgrader": {
     "grade": true,
     "grade_id": "cell-46a72ffc2a1297c8",
     "locked": true,
     "points": 1,
     "schema_version": 1,
     "solution": false
    }
   },
   "outputs": [],
   "source": [
    "### BEGIN HIDDEN TESTS\n",
    "from numpy.testing import *\n",
    "assert_array_equal(calcula_dist_lista(valores), [19.50892087573598, 1.0042548724785347, 3257557.321068564, 1804.8794688198805])\n",
    "### END HIDDEN TESTS"
   ]
  },
  {
   "cell_type": "markdown",
   "metadata": {
    "nbgrader": {
     "grade": false,
     "grade_id": "cell-b9a21e139a71ea34",
     "locked": true,
     "schema_version": 1,
     "solution": false
    }
   },
   "source": [
    "B) Calcule o intervalo de confiança, com confiança de 95%. Retorne uma lista da seguinte forma:\n",
    "\n",
    "```python\n",
    "return [inferior, superior]\n",
    "```"
   ]
  },
  {
   "cell_type": "code",
   "execution_count": 21,
   "metadata": {
    "nbgrader": {
     "grade": false,
     "grade_id": "cell-4cb46adf61d39965",
     "locked": false,
     "schema_version": 1,
     "solution": true
    }
   },
   "outputs": [],
   "source": [
    "def calcula_dist_lista_IC(dados):\n",
    "    ### BEGIN SOLUTION\n",
    "    mean = np.mean(dados)\n",
    "    s = np.std(dados, ddof=1)\n",
    "\n",
    "    s_over_n = s / np.sqrt(len(dados))\n",
    "\n",
    "    inferior = mean - 1.96 * s_over_n\n",
    "    superior = mean + 1.96 * s_over_n\n",
    "    ### END SOLUTION\n",
    "    return [inferior, superior]"
   ]
  },
  {
   "cell_type": "code",
   "execution_count": 22,
   "metadata": {
    "nbgrader": {
     "grade": true,
     "grade_id": "cell-332802801587122d",
     "locked": true,
     "points": 1,
     "schema_version": 1,
     "solution": false
    }
   },
   "outputs": [],
   "source": [
    "### BEGIN HIDDEN TESTS\n",
    "from numpy.testing import *\n",
    "assert_array_equal(calcula_dist_lista_IC(valores), [8.322162029586451, 30.69567972188551])\n",
    "### END HIDDEN TESTS"
   ]
  },
  {
   "cell_type": "markdown",
   "metadata": {
    "nbgrader": {
     "grade": false,
     "grade_id": "cell-f8dc5216dd1ab89c",
     "locked": true,
     "schema_version": 1,
     "solution": false
    }
   },
   "source": [
    "C) Plote a distribuição dos valores dos dados, em escala log-log. Verifque as funcões _xscale_ e _yscale_ da biblioteca matplotlib."
   ]
  },
  {
   "cell_type": "code",
   "execution_count": 23,
   "metadata": {
    "nbgrader": {
     "grade": true,
     "grade_id": "cell-eebbb751cb630e2c",
     "locked": false,
     "points": 1,
     "schema_version": 1,
     "solution": true
    },
    "scrolled": true
   },
   "outputs": [
    {
     "data": {
      "image/png": "[encoded data removed]",
      "text/plain": [
       "<Figure size 432x288 with 1 Axes>"
      ]
     },
     "metadata": {
      "needs_background": "light"
     },
     "output_type": "display_data"
    }
   ],
   "source": [
    "### BEGIN SOLUTION\n",
    "plt.hist(valores);\n",
    "plt.xlabel('Valores')\n",
    "plt.ylabel('P(valor)')\n",
    "plt.xscale('log')\n",
    "plt.yscale('log')\n",
    "### END SOLUTION"
   ]
  },
  {
   "cell_type": "markdown",
   "metadata": {
    "nbgrader": {
     "grade": false,
     "grade_id": "cell-51e2cc380f9bb741",
     "locked": true,
     "schema_version": 1,
     "solution": false
    }
   },
   "source": [
    "D) Tente explicar o por quê de os valores calculados ficaram tão elevados."
   ]
  },
  {
   "cell_type": "markdown",
   "metadata": {
    "nbgrader": {
     "grade": true,
     "grade_id": "cell-035e97a09d03ead0",
     "locked": false,
     "points": 0,
     "schema_version": 1,
     "solution": true
    }
   },
   "source": []
  },
  {
   "cell_type": "markdown",
   "metadata": {},
   "source": [
    "O gráfico de logaritmos cresce exponencialmente, devido isso, temos valores muito elevados para o gráfico"
   ]
  },
  {
   "cell_type": "code",
   "execution_count": null,
   "metadata": {},
   "outputs": [],
   "source": []
  }
 ],
 "metadata": {
  "celltoolbar": "Create Assignment",
  "kernelspec": {
   "display_name": "Python 3",
   "language": "python",
   "name": "python3"
  },
  "language_info": {
   "codemirror_mode": {
    "name": "ipython",
    "version": 3
   },
   "file_extension": ".py",
   "mimetype": "text/x-python",
   "name": "python",
   "nbconvert_exporter": "python",
   "pygments_lexer": "ipython3",
   "version": "3.6.5"
  },
  "varInspector": {
   "cols": {
    "lenName": 16,
    "lenType": 16,
    "lenVar": 40
   },
   "kernels_config": {
    "python": {
     "delete_cmd_postfix": "",
     "delete_cmd_prefix": "del ",
     "library": "var_list.py",
     "varRefreshCmd": "print(var_dic_list())"
    },
    "r": {
     "delete_cmd_postfix": ") ",
     "delete_cmd_prefix": "rm(",
     "library": "var_list.r",
     "varRefreshCmd": "cat(var_dic_list()) "
    }
   },
   "types_to_exclude": [
    "module",
    "function",
    "builtin_function_or_method",
    "instance",
    "_Feature"
   ],
   "window_display": false
  }
 },
 "nbformat": 4,
 "nbformat_minor": 2
}
