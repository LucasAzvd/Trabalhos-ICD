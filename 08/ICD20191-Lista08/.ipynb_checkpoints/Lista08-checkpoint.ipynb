{
 "cells": [
  {
   "cell_type": "markdown",
   "metadata": {
    "deletable": false,
    "editable": false,
    "nbgrader": {
     "checksum": "796114292f40d93792b787b19fbed7ee",
     "grade": false,
     "grade_id": "cellc-a00",
     "locked": true,
     "schema_version": 1,
     "solution": false
    }
   },
   "source": [
    "# Lista 08 - Comparando Regressões"
   ]
  },
  {
   "cell_type": "markdown",
   "metadata": {
    "deletable": false,
    "editable": false,
    "nbgrader": {
     "checksum": "c77a6c3fedbe648e6e209ba6323f711e",
     "grade": false,
     "grade_id": "cell-acd6c643a4ce1477",
     "locked": true,
     "schema_version": 1,
     "solution": false
    }
   },
   "source": [
    "# Exercício 01:\n",
    "\n",
    "Analise o desempenho do kNN e de uma Regressão Linear Regularizada para **pelo menos um** dos conjuntos de dados disponível na [seção de regressão linear múltipla](http://college.cengage.com/mathematics/brase/understandable_statistics/7e/students/datasets/mlr/frames/frame.html) da página do *Livro Understandable Statistics* de Charles Brase e Corrinne Brase. Para o conjunto de dados que escolheu, execute a regressão linear múltipla para explicar o fator $X1$ dos dados ([ver descrição de um dos conjuntos](http://college.cengage.com/mathematics/brase/understandable_statistics/7e/students/datasets/mlr/frames/frame.html)) a partir dos outros fatores. \n",
    "\n",
    "Para a questão, faça as seguintes tarefas:\n",
    "\n",
    "* Realize treino, validação e teste\n",
    "* Compare as métricas no teste\n",
    "* Diferente da lista anterior, reporte o erro quadrado médio no conjunto de teste."
   ]
  },
  {
   "cell_type": "code",
   "execution_count": 1,
   "metadata": {
    "deletable": false,
    "nbgrader": {
     "checksum": "c4c170d5f5a66e6cffe2a8da92fb9285",
     "grade": true,
     "grade_id": "cell-1b46a0ab690a7b8c",
     "locked": false,
     "points": 4,
     "schema_version": 1,
     "solution": true
    }
   },
   "outputs": [
    {
     "data": {
      "text/html": [
       "<div>\n",
       "<style scoped>\n",
       "    .dataframe tbody tr th:only-of-type {\n",
       "        vertical-align: middle;\n",
       "    }\n",
       "\n",
       "    .dataframe tbody tr th {\n",
       "        vertical-align: top;\n",
       "    }\n",
       "\n",
       "    .dataframe thead th {\n",
       "        text-align: right;\n",
       "    }\n",
       "</style>\n",
       "<table border=\"1\" class=\"dataframe\">\n",
       "  <thead>\n",
       "    <tr style=\"text-align: right;\">\n",
       "      <th></th>\n",
       "      <th>X1</th>\n",
       "      <th>X2</th>\n",
       "      <th>X3</th>\n",
       "      <th>X4</th>\n",
       "      <th>X5</th>\n",
       "    </tr>\n",
       "  </thead>\n",
       "  <tbody>\n",
       "    <tr>\n",
       "      <th>0</th>\n",
       "      <td>8.0</td>\n",
       "      <td>-1.005483</td>\n",
       "      <td>-0.919349</td>\n",
       "      <td>-0.312289</td>\n",
       "      <td>-0.034793</td>\n",
       "    </tr>\n",
       "    <tr>\n",
       "      <th>1</th>\n",
       "      <td>9.3</td>\n",
       "      <td>-1.269429</td>\n",
       "      <td>-0.471389</td>\n",
       "      <td>-0.684230</td>\n",
       "      <td>0.707051</td>\n",
       "    </tr>\n",
       "    <tr>\n",
       "      <th>2</th>\n",
       "      <td>7.5</td>\n",
       "      <td>-1.216640</td>\n",
       "      <td>0.448585</td>\n",
       "      <td>-2.079006</td>\n",
       "      <td>0.049989</td>\n",
       "    </tr>\n",
       "    <tr>\n",
       "      <th>3</th>\n",
       "      <td>8.9</td>\n",
       "      <td>-0.530381</td>\n",
       "      <td>3.614376</td>\n",
       "      <td>-0.498260</td>\n",
       "      <td>-0.289139</td>\n",
       "    </tr>\n",
       "    <tr>\n",
       "      <th>4</th>\n",
       "      <td>10.2</td>\n",
       "      <td>-1.111061</td>\n",
       "      <td>-0.339105</td>\n",
       "      <td>-1.056170</td>\n",
       "      <td>2.021175</td>\n",
       "    </tr>\n",
       "  </tbody>\n",
       "</table>\n",
       "</div>"
      ],
      "text/plain": [
       "     X1        X2        X3        X4        X5\n",
       "0   8.0 -1.005483 -0.919349 -0.312289 -0.034793\n",
       "1   9.3 -1.269429 -0.471389 -0.684230  0.707051\n",
       "2   7.5 -1.216640  0.448585 -2.079006  0.049989\n",
       "3   8.9 -0.530381  3.614376 -0.498260 -0.289139\n",
       "4  10.2 -1.111061 -0.339105 -1.056170  2.021175"
      ]
     },
     "execution_count": 1,
     "metadata": {},
     "output_type": "execute_result"
    }
   ],
   "source": [
    "import pandas as pd\n",
    "import matplotlib.pyplot as plt\n",
    "from sklearn.linear_model import LogisticRegression\n",
    "\n",
    "from sklearn.neighbors import KNeighborsRegressor\n",
    "from sklearn.model_selection import train_test_split\n",
    "\n",
    "from sklearn.metrics import mean_squared_error, accuracy_score\n",
    "from sklearn.model_selection import KFold\n",
    "from sklearn.metrics import classification_report\n",
    "from sklearn.linear_model import Ridge\n",
    "from sklearn.utils import shuffle\n",
    "\n",
    "# Arquivo convertido para csv \n",
    "df = pd.read_csv(\"mlr07.csv\")\n",
    "colunas=[\"X2\",\"X3\",\"X4\",\"X5\"]\n",
    "TARGET = [\"X1\"]\n",
    "#normalizando os dados\n",
    "df[colunas]-=df[colunas].mean()\n",
    "df[colunas]/=df[colunas].std(ddof=1)\n",
    "df.head()"
   ]
  },
  {
   "cell_type": "markdown",
   "metadata": {},
   "source": [
    "## KNN"
   ]
  },
  {
   "cell_type": "code",
   "execution_count": 2,
   "metadata": {},
   "outputs": [],
   "source": [
    "splits = 5\n",
    "skf = KFold(n_splits=splits)\n",
    "X_train, X_test, y_train, y_test = train_test_split(df[colunas], df[TARGET], test_size=0.2, random_state=23)"
   ]
  },
  {
   "cell_type": "code",
   "execution_count": 3,
   "metadata": {},
   "outputs": [
    {
     "name": "stdout",
     "output_type": "stream",
     "text": [
      "N-1, erro = 4.007833519981789\n",
      "N-2, erro = 3.2010141016809173\n",
      "N-3, erro = 3.1029291807113677\n",
      "N-4, erro = 2.982675515549686\n",
      "N-5, erro = 2.7120079835267368\n",
      "N-6, erro = 2.6222949327193534\n",
      "N-7, erro = 2.386023984467831\n",
      "N-8, erro = 2.3677189225849498\n",
      "N-9, erro = 2.5063870092759872\n",
      "N-10, erro = 2.585869895746762\n"
     ]
    }
   ],
   "source": [
    "fold = 0\n",
    "melhores = []\n",
    "results = []\n",
    "for nn in range(1,11): \n",
    "    best = (0, 0)\n",
    "    accuracy=0\n",
    "    for treino, validacao in skf.split(X_train, y_train):\n",
    "        X_tt = X_train.iloc[treino]\n",
    "        y_tt = y_train.iloc[treino]\n",
    "        X_v = X_train.iloc[validacao]\n",
    "        y_v = y_train.iloc[validacao]\n",
    "\n",
    "        model = KNeighborsRegressor(n_neighbors=nn)\n",
    "        model.fit(X_tt, y_tt) \n",
    "        y_pv = model.predict(X_v) \n",
    "\n",
    "        accuracy += mean_squared_error(y_v, y_pv)\n",
    "    accuracy/=splits\n",
    "    results.append([accuracy,nn])\n",
    "    if accuracy > best[0]:\n",
    "        best = (accuracy, nn)\n",
    "\n",
    "    melhores.append(best[1])\n",
    "    fold += 1\n",
    "    print(f'N-{fold}, erro = {best[0]}')"
   ]
  },
  {
   "cell_type": "code",
   "execution_count": 4,
   "metadata": {},
   "outputs": [
    {
     "data": {
      "image/png": "[encoded data removed]",
      "text/plain": [
       "<Figure size 432x288 with 1 Axes>"
      ]
     },
     "metadata": {
      "needs_background": "light"
     },
     "output_type": "display_data"
    }
   ],
   "source": [
    "res = pd.DataFrame(results,columns=[\"MSE\",\"K\"])\n",
    "plt.plot(res[\"K\"],res[\"MSE\"])\n",
    "plt.xlabel(\"K\")\n",
    "plt.ylabel(\"MSE\")\n",
    "plt.show()"
   ]
  },
  {
   "cell_type": "markdown",
   "metadata": {},
   "source": [
    "O menor erro está presente com K=8, pois isso utilizaremos ele no modelo."
   ]
  },
  {
   "cell_type": "code",
   "execution_count": 5,
   "metadata": {},
   "outputs": [
    {
     "name": "stdout",
     "output_type": "stream",
     "text": [
      "4.812031265463987\n"
     ]
    }
   ],
   "source": [
    "model = KNeighborsRegressor(n_neighbors=8)\n",
    "model.fit(X_train, y_train) \n",
    "y_knr = model.predict(X_test)\n",
    "\n",
    "print(mean_squared_error(y_knr,y_test))"
   ]
  },
  {
   "cell_type": "markdown",
   "metadata": {},
   "source": [
    "## Regressão Linear"
   ]
  },
  {
   "cell_type": "code",
   "execution_count": 6,
   "metadata": {},
   "outputs": [],
   "source": [
    "splits = 5\n",
    "skf = KFold(n_splits=splits)\n",
    "X_train, X_test, y_train, y_test = train_test_split(df[colunas], df[TARGET], test_size=0.2, random_state=23)"
   ]
  },
  {
   "cell_type": "code",
   "execution_count": 7,
   "metadata": {},
   "outputs": [
    {
     "name": "stdout",
     "output_type": "stream",
     "text": [
      "N-1, erro = 2.3677189225849498\n",
      "N-2, erro = 2.3677189225849498\n",
      "N-3, erro = 2.3677189225849498\n",
      "N-4, erro = 2.3677189225849498\n",
      "N-5, erro = 2.3677189225849498\n",
      "N-6, erro = 2.3677189225849498\n",
      "N-7, erro = 2.3677189225849498\n",
      "N-8, erro = 2.3677189225849498\n",
      "N-9, erro = 2.3677189225849498\n",
      "N-10, erro = 2.3677189225849498\n"
     ]
    }
   ],
   "source": [
    "fold = 0\n",
    "melhores = []\n",
    "results = []\n",
    "for alpha in range(1,11): \n",
    "    best = (0, 0)\n",
    "    accuracy=0\n",
    "    for treino, validacao in skf.split(X_train, y_train):\n",
    "        X_tt = X_train.iloc[treino]\n",
    "        y_tt = y_train.iloc[treino]\n",
    "        X_v = X_train.iloc[validacao]\n",
    "        y_v = y_train.iloc[validacao]\n",
    "        alpha=alpha * 0.1\n",
    "        clf = Ridge(alpha)\n",
    "        model.fit(X_tt, y_tt) \n",
    "        y_pv = model.predict(X_v) \n",
    "        \n",
    "        accuracy += mean_squared_error(y_v, y_pv)\n",
    "    accuracy/=splits\n",
    "    results.append([accuracy,alpha])\n",
    "    if accuracy > best[0]:\n",
    "        best = (accuracy, nn)\n",
    "\n",
    "    melhores.append(best[1])\n",
    "    fold += 1\n",
    "    print(f'N-{fold}, erro = {best[0]}')"
   ]
  },
  {
   "cell_type": "code",
   "execution_count": 8,
   "metadata": {},
   "outputs": [
    {
     "data": {
      "image/png": "[encoded data removed]",
      "text/plain": [
       "<Figure size 432x288 with 1 Axes>"
      ]
     },
     "metadata": {
      "needs_background": "light"
     },
     "output_type": "display_data"
    }
   ],
   "source": [
    "res = pd.DataFrame(results,columns=[\"MSE\",\"ALPHA\"])\n",
    "plt.plot(res[\"ALPHA\"]*0.1,res[\"MSE\"])\n",
    "plt.xlabel(\"ALPHA\")\n",
    "plt.ylabel(\"MSE\")\n",
    "plt.show()"
   ]
  },
  {
   "cell_type": "code",
   "execution_count": 9,
   "metadata": {},
   "outputs": [
    {
     "name": "stdout",
     "output_type": "stream",
     "text": [
      "3.619568201227736\n"
     ]
    }
   ],
   "source": [
    "model = Ridge(alpha=5)\n",
    "model.fit(X_train, y_train) \n",
    "y_pv = model.predict(X_test)\n",
    "\n",
    "print(mean_squared_error( y_pv,y_test))"
   ]
  },
  {
   "cell_type": "markdown",
   "metadata": {
    "deletable": false,
    "editable": false,
    "nbgrader": {
     "checksum": "c5c0a788bafbd1227adf600b857ee636",
     "grade": false,
     "grade_id": "cell-b8fab7f24e1b2a35",
     "locked": true,
     "schema_version": 1,
     "solution": false
    }
   },
   "source": [
    "Explique e discuta sobre os resultados encontrados no campo abaixo."
   ]
  },
  {
   "cell_type": "markdown",
   "metadata": {
    "deletable": false,
    "nbgrader": {
     "checksum": "27383ddc0e3db055b7bbfb577b77eca6",
     "grade": true,
     "grade_id": "cell-713eb691ead1e6c1",
     "locked": false,
     "points": 1,
     "schema_version": 1,
     "solution": true
    }
   },
   "source": [
    "Os valor de error no treino do KNN com K=8 é o menor, porém utilizando ele para teste obtemos um erro médio maior que a regressão. Este valor é devido a pequena quantidade de dados do DataFrame (df.shape = (53, 5)) e como KNN é definido a partir dos vizinhos, o resultado é esse. A regressão linear apresenta o mesmo resultado devido a falta do shuffle no Dataframe, o que nos garante a repetição do experimento."
   ]
  }
 ],
 "metadata": {
  "kernelspec": {
   "display_name": "Python 3",
   "language": "python",
   "name": "python3"
  },
  "language_info": {
   "codemirror_mode": {
    "name": "ipython",
    "version": 3
   },
   "file_extension": ".py",
   "mimetype": "text/x-python",
   "name": "python",
   "nbconvert_exporter": "python",
   "pygments_lexer": "ipython3",
   "version": "3.6.5"
  }
 },
 "nbformat": 4,
 "nbformat_minor": 2
}
