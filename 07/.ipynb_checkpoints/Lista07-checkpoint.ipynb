{
 "cells": [
  {
   "cell_type": "markdown",
   "metadata": {
    "deletable": false,
    "editable": false,
    "nbgrader": {
     "checksum": "3818e732a20a001b7ac976d05bebae38",
     "grade": false,
     "grade_id": "cellc-a00",
     "locked": true,
     "schema_version": 1,
     "solution": false
    }
   },
   "source": [
    "# Lista 07 - Comparando Classificadores"
   ]
  },
  {
   "cell_type": "markdown",
   "metadata": {
    "deletable": false,
    "editable": false,
    "nbgrader": {
     "checksum": "dcdf972c9ddb3c9fbec115bf5320ac5a",
     "grade": false,
     "grade_id": "cell1c-a00",
     "locked": true,
     "schema_version": 1,
     "solution": false
    }
   },
   "source": [
    "# Exercício 01:\n",
    "\n",
    "Analise o desempenho do kNN e de uma Regressão Logística Regularizada para **pelo menos um** dos conjuntos de dados abaixo:\n",
    "\n",
    "* [Avaliação de carros](http://archive.ics.uci.edu/ml/datasets/Car+Evaluation)\n",
    "* [Avaliação de vinhos](http://archive.ics.uci.edu/ml/datasets/Wine+Quality)\n",
    "* [Resultados de partidas do jogo Dota](http://archive.ics.uci.edu/ml/datasets/Dota2+Games+Results) (desafiador!)\n",
    "\n",
    "Para a questão, faça as seguintes tarefas:\n",
    "\n",
    "* Realize treino, validação e teste\n",
    "* Compare as métricas no teste\n",
    "* Reporte a precisão, revocação, F1 e a matriz de confusão\n",
    "\n",
    "Como já estamos no fim da matéria, você pode agora fazer uso da biblioteca scikit-learn. Afinal, no dia a dia, não implementamos tudo do zero. Abaixo temos os imports que vocês precisam. Leiam a API da biblioteca para saber como fazer uso da mesma."
   ]
  },
  {
   "cell_type": "code",
   "execution_count": 1,
   "metadata": {
    "deletable": false,
    "editable": false,
    "nbgrader": {
     "checksum": "4cb9f28f98be7a7173df5ebc7409532e",
     "grade": false,
     "grade_id": "cell-2ce424d4b26d1b9b",
     "locked": true,
     "schema_version": 1,
     "solution": false
    }
   },
   "outputs": [],
   "source": [
    "from sklearn.linear_model import LogisticRegression\n",
    "\n",
    "from sklearn.metrics import confusion_matrix\n",
    "from sklearn.metrics import precision_recall_fscore_support\n",
    "\n",
    "from sklearn.neighbors import KNeighborsClassifier\n",
    "\n",
    "# Um fator importante é que o SKLearn não cria conjuntos de validação para você. Você tem algumas abordagens,\n",
    "# uma é realizar um novo split no treino. Outra é fazer uso de classificadores com CV no fim.\n",
    "# Tipo LogisticRegressionCV (ver na API). Por fim, você pode fazer uso da classe GridSearchCV.\n",
    "# Leia a documentação da mesma.\n",
    "from sklearn.model_selection import train_test_split"
   ]
  },
  {
   "cell_type": "code",
   "execution_count": 2,
   "metadata": {
    "deletable": false,
    "nbgrader": {
     "checksum": "d018fd308b76554ff6d37bc9fe82404c",
     "grade": true,
     "grade_id": "cell1-a00",
     "locked": false,
     "points": 1,
     "schema_version": 1,
     "solution": true
    }
   },
   "outputs": [
    {
     "data": {
      "text/html": [
       "<div>\n",
       "<style scoped>\n",
       "    .dataframe tbody tr th:only-of-type {\n",
       "        vertical-align: middle;\n",
       "    }\n",
       "\n",
       "    .dataframe tbody tr th {\n",
       "        vertical-align: top;\n",
       "    }\n",
       "\n",
       "    .dataframe thead th {\n",
       "        text-align: right;\n",
       "    }\n",
       "</style>\n",
       "<table border=\"1\" class=\"dataframe\">\n",
       "  <thead>\n",
       "    <tr style=\"text-align: right;\">\n",
       "      <th></th>\n",
       "      <th>vhigh</th>\n",
       "      <th>vhigh.1</th>\n",
       "      <th>2</th>\n",
       "      <th>2.1</th>\n",
       "      <th>small</th>\n",
       "      <th>low</th>\n",
       "      <th>unacc</th>\n",
       "    </tr>\n",
       "  </thead>\n",
       "  <tbody>\n",
       "    <tr>\n",
       "      <th>0</th>\n",
       "      <td>vhigh</td>\n",
       "      <td>vhigh</td>\n",
       "      <td>2</td>\n",
       "      <td>2</td>\n",
       "      <td>small</td>\n",
       "      <td>med</td>\n",
       "      <td>unacc</td>\n",
       "    </tr>\n",
       "    <tr>\n",
       "      <th>1</th>\n",
       "      <td>vhigh</td>\n",
       "      <td>vhigh</td>\n",
       "      <td>2</td>\n",
       "      <td>2</td>\n",
       "      <td>small</td>\n",
       "      <td>high</td>\n",
       "      <td>unacc</td>\n",
       "    </tr>\n",
       "    <tr>\n",
       "      <th>2</th>\n",
       "      <td>vhigh</td>\n",
       "      <td>vhigh</td>\n",
       "      <td>2</td>\n",
       "      <td>2</td>\n",
       "      <td>med</td>\n",
       "      <td>low</td>\n",
       "      <td>unacc</td>\n",
       "    </tr>\n",
       "    <tr>\n",
       "      <th>3</th>\n",
       "      <td>vhigh</td>\n",
       "      <td>vhigh</td>\n",
       "      <td>2</td>\n",
       "      <td>2</td>\n",
       "      <td>med</td>\n",
       "      <td>med</td>\n",
       "      <td>unacc</td>\n",
       "    </tr>\n",
       "    <tr>\n",
       "      <th>4</th>\n",
       "      <td>vhigh</td>\n",
       "      <td>vhigh</td>\n",
       "      <td>2</td>\n",
       "      <td>2</td>\n",
       "      <td>med</td>\n",
       "      <td>high</td>\n",
       "      <td>unacc</td>\n",
       "    </tr>\n",
       "  </tbody>\n",
       "</table>\n",
       "</div>"
      ],
      "text/plain": [
       "   vhigh vhigh.1  2 2.1  small   low  unacc\n",
       "0  vhigh   vhigh  2   2  small   med  unacc\n",
       "1  vhigh   vhigh  2   2  small  high  unacc\n",
       "2  vhigh   vhigh  2   2    med   low  unacc\n",
       "3  vhigh   vhigh  2   2    med   med  unacc\n",
       "4  vhigh   vhigh  2   2    med  high  unacc"
      ]
     },
     "execution_count": 2,
     "metadata": {},
     "output_type": "execute_result"
    }
   ],
   "source": [
    "#Primeiramente, ler os dados\n",
    "import pandas as pd\n",
    "\n",
    "df = pd.read_csv(\"car.csv\")\n",
    "df.head()"
   ]
  },
  {
   "cell_type": "code",
   "execution_count": 3,
   "metadata": {},
   "outputs": [
    {
     "data": {
      "text/html": [
       "<div>\n",
       "<style scoped>\n",
       "    .dataframe tbody tr th:only-of-type {\n",
       "        vertical-align: middle;\n",
       "    }\n",
       "\n",
       "    .dataframe tbody tr th {\n",
       "        vertical-align: top;\n",
       "    }\n",
       "\n",
       "    .dataframe thead th {\n",
       "        text-align: right;\n",
       "    }\n",
       "</style>\n",
       "<table border=\"1\" class=\"dataframe\">\n",
       "  <thead>\n",
       "    <tr style=\"text-align: right;\">\n",
       "      <th></th>\n",
       "      <th>buying</th>\n",
       "      <th>maint</th>\n",
       "      <th>doors</th>\n",
       "      <th>persons</th>\n",
       "      <th>lug_boot</th>\n",
       "      <th>safety</th>\n",
       "      <th>class</th>\n",
       "      <th>ID</th>\n",
       "    </tr>\n",
       "  </thead>\n",
       "  <tbody>\n",
       "    <tr>\n",
       "      <th>0</th>\n",
       "      <td>vhigh</td>\n",
       "      <td>vhigh</td>\n",
       "      <td>2</td>\n",
       "      <td>2</td>\n",
       "      <td>small</td>\n",
       "      <td>med</td>\n",
       "      <td>unacc</td>\n",
       "      <td>0</td>\n",
       "    </tr>\n",
       "    <tr>\n",
       "      <th>1</th>\n",
       "      <td>vhigh</td>\n",
       "      <td>vhigh</td>\n",
       "      <td>2</td>\n",
       "      <td>2</td>\n",
       "      <td>small</td>\n",
       "      <td>high</td>\n",
       "      <td>unacc</td>\n",
       "      <td>1</td>\n",
       "    </tr>\n",
       "    <tr>\n",
       "      <th>2</th>\n",
       "      <td>vhigh</td>\n",
       "      <td>vhigh</td>\n",
       "      <td>2</td>\n",
       "      <td>2</td>\n",
       "      <td>med</td>\n",
       "      <td>low</td>\n",
       "      <td>unacc</td>\n",
       "      <td>2</td>\n",
       "    </tr>\n",
       "    <tr>\n",
       "      <th>3</th>\n",
       "      <td>vhigh</td>\n",
       "      <td>vhigh</td>\n",
       "      <td>2</td>\n",
       "      <td>2</td>\n",
       "      <td>med</td>\n",
       "      <td>med</td>\n",
       "      <td>unacc</td>\n",
       "      <td>3</td>\n",
       "    </tr>\n",
       "    <tr>\n",
       "      <th>4</th>\n",
       "      <td>vhigh</td>\n",
       "      <td>vhigh</td>\n",
       "      <td>2</td>\n",
       "      <td>2</td>\n",
       "      <td>med</td>\n",
       "      <td>high</td>\n",
       "      <td>unacc</td>\n",
       "      <td>4</td>\n",
       "    </tr>\n",
       "  </tbody>\n",
       "</table>\n",
       "</div>"
      ],
      "text/plain": [
       "  buying  maint doors persons lug_boot safety  class  ID\n",
       "0  vhigh  vhigh     2       2    small    med  unacc   0\n",
       "1  vhigh  vhigh     2       2    small   high  unacc   1\n",
       "2  vhigh  vhigh     2       2      med    low  unacc   2\n",
       "3  vhigh  vhigh     2       2      med    med  unacc   3\n",
       "4  vhigh  vhigh     2       2      med   high  unacc   4"
      ]
     },
     "execution_count": 3,
     "metadata": {},
     "output_type": "execute_result"
    }
   ],
   "source": [
    "#adicionando nomes para colunas para facilitar a indexacao dos dados\n",
    "df.columns = [\"buying\",\"maint\",\"doors\",\"persons\",\"lug_boot\",\"safety\",\"class\"]\n",
    "#Como a ultima coluna nao apresenta features (acho que eh lixo), a iremos remover\n",
    "df[\"ID\"] = df.index\n",
    "df.head()"
   ]
  },
  {
   "cell_type": "code",
   "execution_count": 4,
   "metadata": {},
   "outputs": [
    {
     "data": {
      "text/plain": [
       "<Figure size 640x480 with 1 Axes>"
      ]
     },
     "metadata": {},
     "output_type": "display_data"
    },
    {
     "data": {
      "text/plain": [
       "<Figure size 640x480 with 1 Axes>"
      ]
     },
     "metadata": {},
     "output_type": "display_data"
    },
    {
     "data": {
      "text/plain": [
       "<Figure size 640x480 with 1 Axes>"
      ]
     },
     "metadata": {},
     "output_type": "display_data"
    },
    {
     "data": {
      "text/plain": [
       "<Figure size 640x480 with 1 Axes>"
      ]
     },
     "metadata": {},
     "output_type": "display_data"
    },
    {
     "data": {
      "text/plain": [
       "<Figure size 640x480 with 1 Axes>"
      ]
     },
     "metadata": {},
     "output_type": "display_data"
    },
    {
     "data": {
      "text/plain": [
       "<Figure size 640x480 with 1 Axes>"
      ]
     },
     "metadata": {},
     "output_type": "display_data"
    },
    {
     "data": {
      "text/plain": [
       "<Figure size 640x480 with 1 Axes>"
      ]
     },
     "metadata": {},
     "output_type": "display_data"
    }
   ],
   "source": [
    "# Agora, iremos plotar graficos para representar as distribuicoes dos dados\n",
    "import matplotlib.pyplot as plt\n",
    "def plot_dist(data,label,title, threshold=None):\n",
    "    data[label].unique()\n",
    "    aux = data[[label,'ID']]\n",
    "    aux = aux.groupby([label]).count()\n",
    "    if(threshold):\n",
    "        aux = aux[aux[\"ID\"]>threshold]\n",
    "    aux = aux.sort_values('ID')\n",
    "    plt.title(title)\n",
    "    plt.bar(aux.index,aux[\"ID\"])\n",
    "    plt.show()\n",
    "\n",
    "    \n",
    "for col in df.columns:\n",
    "    if(col!=\"ID\"):\n",
    "        plot_dist(df,col,\"Coluna \"+str(col))\n"
   ]
  },
  {
   "cell_type": "markdown",
   "metadata": {},
   "source": [
    "Os nossos dados são todos categóricos então utilizaremos o Get_dummies para converte-los"
   ]
  },
  {
   "cell_type": "code",
   "execution_count": 5,
   "metadata": {},
   "outputs": [],
   "source": [
    "import numpy as np\n",
    "colunas = [\"buying\",\"maint\",\"doors\",\"persons\",\"lug_boot\",\"safety\"]\n",
    "classes = [\"class\"]\n",
    "\n",
    "tgt = df[classes]\n",
    "df = df.drop([\"class\",\"ID\"],axis=1)\n",
    "df = pd.get_dummies(df, columns=colunas).values\n",
    "tgt = tgt.values"
   ]
  },
  {
   "cell_type": "markdown",
   "metadata": {},
   "source": [
    "## K-NN"
   ]
  },
  {
   "cell_type": "code",
   "execution_count": 14,
   "metadata": {},
   "outputs": [
    {
     "name": "stdout",
     "output_type": "stream",
     "text": [
      "K-1, Acurácia = 0.7690069547955474\n",
      "K-2, Acurácia = 0.6177362944394098\n",
      "K-3, Acurácia = 0.8132001912559229\n",
      "K-4, Acurácia = 0.7262261402698741\n",
      "K-5, Acurácia = 0.8413748467145646\n",
      "K-6, Acurácia = 0.7856898331513575\n",
      "K-7, Acurácia = 0.8465025333389853\n",
      "K-8, Acurácia = 0.7914317117443281\n",
      "K-9, Acurácia = 0.8580839425605914\n",
      "K-10, Acurácia = 0.7965595702241108\n"
     ]
    }
   ],
   "source": [
    "from sklearn.metrics import accuracy_score\n",
    "from sklearn.model_selection import StratifiedKFold\n",
    "splits = 5\n",
    "skf = StratifiedKFold(n_splits=splits, shuffle=True)\n",
    "X_train, X_test, y_train, y_test = train_test_split(df, tgt, test_size=0.2, random_state=23)\n",
    "\n",
    "fold = 0\n",
    "melhores = []\n",
    "for nn in range(1,11): \n",
    "    best = (0, 0)\n",
    "    accuracy=0\n",
    "    for treino, validacao in skf.split(X_train, y_train):\n",
    "        X_tt = X_train[treino]\n",
    "        y_tt = y_train[treino]\n",
    "        X_v = X_train[validacao]\n",
    "        y_v = y_train[validacao]\n",
    "        y_tt = pd.get_dummies(pd.DataFrame(y_tt)).values\n",
    "        y_v = pd.get_dummies(pd.DataFrame(y_v)).values\n",
    "\n",
    "        model = KNeighborsClassifier(n_neighbors=nn)\n",
    "        model.fit(X_tt, y_tt) \n",
    "        y_pv = model.predict(X_v) \n",
    "\n",
    "        accuracy += accuracy_score(y_v, y_pv)\n",
    "    accuracy/=splits\n",
    "    if accuracy > best[0]:\n",
    "        best = (accuracy, nn)\n",
    "\n",
    "    melhores.append(best[1])\n",
    "    fold += 1\n",
    "    print('K-{}, Acurácia = {}'.format(fold, best[0]))\n"
   ]
  },
  {
   "cell_type": "markdown",
   "metadata": {},
   "source": [
    "Temos K = 9 como modelo de melhor acurácia. Iremos replica-lo para testes e métricas"
   ]
  },
  {
   "cell_type": "markdown",
   "metadata": {},
   "source": [
    "## Métricas - K=9"
   ]
  },
  {
   "cell_type": "code",
   "execution_count": 7,
   "metadata": {},
   "outputs": [
    {
     "name": "stdout",
     "output_type": "stream",
     "text": [
      "              precision    recall  f1-score   support\n",
      "\n",
      "         acc       0.81      0.93      0.87        71\n",
      "        good       0.60      0.30      0.40        10\n",
      "       unacc       0.98      0.98      0.98       255\n",
      "       vgood       1.00      0.50      0.67        10\n",
      "\n",
      "    accuracy                           0.94       346\n",
      "   macro avg       0.85      0.68      0.73       346\n",
      "weighted avg       0.94      0.94      0.93       346\n",
      "\n"
     ]
    },
    {
     "name": "stderr",
     "output_type": "stream",
     "text": [
      "c:\\users\\lucas\\appdata\\local\\programs\\python\\python36\\lib\\site-packages\\ipykernel_launcher.py:4: DataConversionWarning: A column-vector y was passed when a 1d array was expected. Please change the shape of y to (n_samples, ), for example using ravel().\n",
      "  after removing the cwd from sys.path.\n"
     ]
    }
   ],
   "source": [
    "from sklearn.metrics import classification_report\n",
    "\n",
    "model = KNeighborsClassifier(n_neighbors=9)\n",
    "model.fit(X_train, y_train)\n",
    "\n",
    "print(classification_report(y_test, model.predict(X_test)))"
   ]
  },
  {
   "cell_type": "markdown",
   "metadata": {},
   "source": [
    "## Matriz de confusão"
   ]
  },
  {
   "cell_type": "code",
   "execution_count": 8,
   "metadata": {},
   "outputs": [
    {
     "data": {
      "image/png": "[encoded data removed]",
      "text/plain": [
       "<Figure size 432x288 with 1 Axes>"
      ]
     },
     "metadata": {
      "needs_background": "light"
     },
     "output_type": "display_data"
    }
   ],
   "source": [
    "from sklearn.metrics import confusion_matrix\n",
    "plt.imshow(confusion_matrix(y_test, model.predict(X_test)))\n",
    "plt.title(\"Matriz de confusão\")\n",
    "plt.show()"
   ]
  },
  {
   "cell_type": "markdown",
   "metadata": {},
   "source": [
    "## Regressão Logística "
   ]
  },
  {
   "cell_type": "code",
   "execution_count": 9,
   "metadata": {
    "scrolled": true
   },
   "outputs": [
    {
     "name": "stdout",
     "output_type": "stream",
     "text": [
      "Acuracia = 0.9022686957172126\n"
     ]
    }
   ],
   "source": [
    "splits = 9\n",
    "skf = StratifiedKFold(n_splits=splits, shuffle=True)\n",
    "X_train, X_test, y_train, y_test = train_test_split(df, tgt, test_size=0.2, random_state=23)\n",
    "\n",
    "best = (0, 0)\n",
    "accuracy=0\n",
    "#Passaremos um dicionário para utilização melhor da biblioteca, vendo os nossos dados são muito \n",
    "# simples, podendo não utilizar o LabelEncoder\n",
    "dct = {'acc':1,'good':2,'unacc':3,'vgood':4}\n",
    "for treino, validacao in skf.split(X_train, y_train):\n",
    "    X_tt = X_train[treino]\n",
    "    y_tt = y_train[treino]\n",
    "    X_v = X_train[validacao]\n",
    "    y_v = y_train[validacao]\n",
    "    y_v = pd.DataFrame(y_v,columns=[\"data\"])\n",
    "    y_v = y_v.replace({\"data\": dct})\n",
    "    y_tt = pd.DataFrame(y_tt,columns=['data'])\n",
    "    y_tt = y_tt.replace({\"data\":dct})\n",
    "    y_tt = y_tt.values\n",
    "    y_v = y_v.values\n",
    "\n",
    "    model = LogisticRegression( solver='lbfgs', multi_class='multinomial')\n",
    "    model.fit(X_tt,np.ravel(y_tt,order='C')) \n",
    "    y_pv = model.predict(X_v) \n",
    "\n",
    "    accuracy += accuracy_score(np.ravel(y_v,order='C'), y_pv)\n",
    "\n",
    "accuracy/=splits\n",
    "if accuracy > best[0]:\n",
    "    best = (accuracy, nn)\n",
    "\n",
    "melhores.append(best[1])\n",
    "\n",
    "print(f'Acuracia = {best[0]}')"
   ]
  },
  {
   "cell_type": "markdown",
   "metadata": {},
   "source": [
    "## Métricas e Matriz de confusão"
   ]
  },
  {
   "cell_type": "code",
   "execution_count": 10,
   "metadata": {},
   "outputs": [
    {
     "name": "stdout",
     "output_type": "stream",
     "text": [
      "              precision    recall  f1-score   support\n",
      "\n",
      "           1       0.78      0.87      0.83        71\n",
      "           2       0.67      0.60      0.63        10\n",
      "           3       0.97      0.95      0.96       255\n",
      "           4       0.89      0.80      0.84        10\n",
      "\n",
      "    accuracy                           0.92       346\n",
      "   macro avg       0.83      0.81      0.82       346\n",
      "weighted avg       0.92      0.92      0.92       346\n",
      "\n"
     ]
    }
   ],
   "source": [
    "y_test = pd.DataFrame(y_test,columns=['data'])\n",
    "y_test = y_test.replace({\"data\":dct})\n",
    "y_test = y_test.values\n",
    "print(classification_report(y_test, model.predict(X_test)))"
   ]
  },
  {
   "cell_type": "code",
   "execution_count": 11,
   "metadata": {},
   "outputs": [
    {
     "data": {
      "image/png": "[encoded data removed]",
      "text/plain": [
       "<Figure size 432x288 with 1 Axes>"
      ]
     },
     "metadata": {
      "needs_background": "light"
     },
     "output_type": "display_data"
    }
   ],
   "source": [
    "plt.imshow(confusion_matrix(y_test, model.predict(X_test)))\n",
    "plt.title(\"Matriz de confusão\")\n",
    "plt.show()"
   ]
  },
  {
   "cell_type": "markdown",
   "metadata": {
    "deletable": false,
    "editable": false,
    "nbgrader": {
     "checksum": "5326a71f95cf2bff0dc9e8fb2fccd7aa",
     "grade": false,
     "grade_id": "cell-05ec0cf892ddb34e",
     "locked": true,
     "schema_version": 1,
     "solution": false
    }
   },
   "source": [
    "Explique e discuta sobre os resultados encontrados no campo abaixo."
   ]
  },
  {
   "cell_type": "markdown",
   "metadata": {
    "deletable": false,
    "nbgrader": {
     "checksum": "d58eb343f731c93ba8580a101bf55781",
     "grade": true,
     "grade_id": "cell-ff948e4b04b506a6",
     "locked": false,
     "points": 1,
     "schema_version": 1,
     "solution": true
    }
   },
   "source": [
    "Segundo a matriz de confusão, temos que os dois modelos possuem performace muito semelhante. A partir das métricas vemos que os modelos possuem resultados diferentes dependendo da classe, porém resultados ainda semelhantes com relação a porcentagem de acerto. Mesmo com esses resultados temos acurácias diferentes com a Regressão Logística com melhor desempenho (Regressão - 0.90; KNN - 0.858) "
   ]
  }
 ],
 "metadata": {
  "kernelspec": {
   "display_name": "Python 3",
   "language": "python",
   "name": "python3"
  },
  "language_info": {
   "codemirror_mode": {
    "name": "ipython",
    "version": 3
   },
   "file_extension": ".py",
   "mimetype": "text/x-python",
   "name": "python",
   "nbconvert_exporter": "python",
   "pygments_lexer": "ipython3",
   "version": "3.6.5"
  }
 },
 "nbformat": 4,
 "nbformat_minor": 2
}
